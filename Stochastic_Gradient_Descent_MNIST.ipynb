{
  "nbformat": 4,
  "nbformat_minor": 0,
  "metadata": {
    "colab": {
      "name": "Stochastic Gradient Descent_MNIST.ipynb",
      "provenance": [],
      "collapsed_sections": []
    },
    "kernelspec": {
      "name": "python3",
      "display_name": "Python 3"
    },
    "accelerator": "GPU",
    "widgets": {
      "application/vnd.jupyter.widget-state+json": {
        "7776b36a12014a369f9d6860092fe9ed": {
          "model_module": "@jupyter-widgets/controls",
          "model_name": "HBoxModel",
          "state": {
            "_view_name": "HBoxView",
            "_dom_classes": [],
            "_model_name": "HBoxModel",
            "_view_module": "@jupyter-widgets/controls",
            "_model_module_version": "1.5.0",
            "_view_count": null,
            "_view_module_version": "1.5.0",
            "box_style": "",
            "layout": "IPY_MODEL_0b4aecb808b640f5b07c846ced4da188",
            "_model_module": "@jupyter-widgets/controls",
            "children": [
              "IPY_MODEL_9deef364edd1487ab396e0a89d951ce5",
              "IPY_MODEL_9258e29ceb1b4df0a0b59445a2bc1877"
            ]
          }
        },
        "f8100faa3ff0473aa3f390306d58d2c1": {
          "model_module": "@jupyter-widgets/controls",
          "model_name": "HBoxModel",
          "state": {
            "_view_name": "HBoxView",
            "_dom_classes": [],
            "_model_name": "HBoxModel",
            "_view_module": "@jupyter-widgets/controls",
            "_model_module_version": "1.5.0",
            "_view_count": null,
            "_view_module_version": "1.5.0",
            "box_style": "",
            "layout": "IPY_MODEL_c5460395e8fb49ab95b92861e5190b57",
            "_model_module": "@jupyter-widgets/controls",
            "children": [
              "IPY_MODEL_a5ae615b0ed944d8a46215379c50da37",
              "IPY_MODEL_165f52f94cfd40839c6021c6a99731ee"
            ]
          }
        },
        "7f09ec6236c44c85a0d3e47599741b5a": {
          "model_module": "@jupyter-widgets/controls",
          "model_name": "HBoxModel",
          "state": {
            "_view_name": "HBoxView",
            "_dom_classes": [],
            "_model_name": "HBoxModel",
            "_view_module": "@jupyter-widgets/controls",
            "_model_module_version": "1.5.0",
            "_view_count": null,
            "_view_module_version": "1.5.0",
            "box_style": "",
            "layout": "IPY_MODEL_6bb1c2a2959444d7ace1212a679508b2",
            "_model_module": "@jupyter-widgets/controls",
            "children": [
              "IPY_MODEL_1ced99be908247d6b0a83c03ec39c4ef",
              "IPY_MODEL_42f2c6de9d4d444c990b9ef6dbeeee5a"
            ]
          }
        },
        "ee10ff0124e94041bff0f586c102c804": {
          "model_module": "@jupyter-widgets/controls",
          "model_name": "HBoxModel",
          "state": {
            "_view_name": "HBoxView",
            "_dom_classes": [],
            "_model_name": "HBoxModel",
            "_view_module": "@jupyter-widgets/controls",
            "_model_module_version": "1.5.0",
            "_view_count": null,
            "_view_module_version": "1.5.0",
            "box_style": "",
            "layout": "IPY_MODEL_9319762ea807435a8fdb435a20acc1f6",
            "_model_module": "@jupyter-widgets/controls",
            "children": [
              "IPY_MODEL_f979d7ae67c54f6d8464b69aea60f52b",
              "IPY_MODEL_8a6d1be1a6774e48897e8f293ec99a14"
            ]
          }
        }
      }
    }
  },
  "cells": [
    {
      "cell_type": "markdown",
      "metadata": {
        "id": "Y3mv9CarUd-3",
        "colab_type": "text"
      },
      "source": [
        "# Stochastic Gradient Descent\n",
        "\n",
        "## Reference\n",
        "- https://www.geeksforgeeks.org/identifying-handwritten-digits-using-logistic-regression-pytorch/\n",
        "- Thanks to https://pytorch.org/tutorials/beginner/blitz/cifar10_tutorial.html"
      ]
    },
    {
      "cell_type": "markdown",
      "metadata": {
        "id": "gUyWMHh0NhAc",
        "colab_type": "text"
      },
      "source": [
        "- Using https://pytorch.org/docs/stable/nn.html#crossentropyloss as a loss function and a linear model which for image x produces Wx+b  (the same as in my Jupiter notebook) train the ML model as follow:\n",
        "\n",
        "- use .cuda() to make it faster -- note that you have to have both w,b in GPU and also the images have to be on GPU\n",
        "\n",
        "- use minibatch of size 50, 100, 200 and run it for 10 epochs (1 epoch is when you touch each example once, hence in our case with batch size 50 it is 60000/50 iterations -- this should be quite fast\n",
        "\n",
        "- experiment with various \"fixed\" learning rates -- one can try  $ \\gamma=2^{-10}, 2^{-9}, ..., 1, 2, 4, 2^{10}  $ -- some of them will have a slow convergence and some of them will even diverge\n",
        "\n",
        "- For each BS show how $F(x_k)$ changed after each epoch, also do not forget to compute $F(x_0)$. Also do NOT compute the function value after each iteration, just after each EPOCH.\n",
        "\n",
        "- Show the graph for the 3 BS runs with the best $ \\gamma $\n",
        "\n",
        "- For a point which you obtain after 10 epochs (just one point, do not need to worry about this too much), compute a full gradient, let's call it $g_f $\n",
        "now compute 100 different stochastic gradients $g^i$ with minibatch \"b\" and let's estimate the \"variance\" of the stochastic gradient as \n",
        "\n",
        "$$\n",
        "V(b) = \\frac1{100} \\sum_{i=1}^{100}  \\| g^i - g_f \\|^2  for  b = 1, 2, 4, 8, .... 1024\n",
        "$$\n",
        "- Make a plot of V(b)\n"
      ]
    },
    {
      "cell_type": "markdown",
      "metadata": {
        "id": "JjclUVdGrdoQ",
        "colab_type": "text"
      },
      "source": [
        "### This is a simple process of Gradient Descent Algorithm.\n",
        "1. Initialize weight w and bias b to any random numbers.\n",
        "2. Pick a value for the learning rate α. The learning rate determines how big the step would be on each iteration.\n",
        "- If α is very small, it would take long time to converge and become computationally expensive.\n",
        "- If α is large, it may fail to converge and overshoot the minimum.\n",
        "3. Make sure to scale the data if it’s on a very different scales. If we don’t scale the data, the level curves (contours) would be narrower and taller which means it would take longer time to converge.\n",
        "4. On each iteration, take the partial derivative of the cost function J(w) w.r.t each parameter (gradient)"
      ]
    },
    {
      "cell_type": "markdown",
      "metadata": {
        "id": "dVj2EkhHsH6V",
        "colab_type": "text"
      },
      "source": [
        "We’ll cover gradient descent algorithm and its variants: Batch Gradient Descent, Mini-batch Gradient Descent, and Stochastic Gradient Descent."
      ]
    },
    {
      "cell_type": "markdown",
      "metadata": {
        "id": "jd5JdKTLbTy6",
        "colab_type": "text"
      },
      "source": [
        "<h2>Preparation</h2>"
      ]
    },
    {
      "cell_type": "code",
      "metadata": {
        "id": "RPxzKsakYuBN",
        "colab_type": "code",
        "colab": {}
      },
      "source": [
        "import torch\n",
        "import torchvision\n",
        "import torchvision.transforms as transforms\n",
        "import torch.nn as nn\n",
        "import torch.nn.functional as F\n",
        "import numpy as np\n",
        "import matplotlib.pyplot as plt\n",
        "%matplotlib inline \n",
        "import matplotlib\n",
        "from torch.autograd import Variable\n",
        "# thanks to https://pytorch.org/tutorials/beginner/blitz/cifar10_tutorial.html"
      ],
      "execution_count": 0,
      "outputs": []
    },
    {
      "cell_type": "markdown",
      "metadata": {
        "id": "L3QyL-7lbXoI",
        "colab_type": "text"
      },
      "source": [
        "<h2 id=\"Makeup_Data\">Make Some Data</h2>\n",
        "\n",
        "First, we'll create some artificial data in a dataset class. The class will include the option to produce training data or validation data. The training data will include outliers."
      ]
    },
    {
      "cell_type": "code",
      "metadata": {
        "id": "m_f0zu07auFd",
        "colab_type": "code",
        "outputId": "6a4fa994-a8cf-4d87-aa53-e633b102f549",
        "colab": {
          "base_uri": "https://localhost:8080/",
          "height": 255,
          "referenced_widgets": [
            "7776b36a12014a369f9d6860092fe9ed",
            "f8100faa3ff0473aa3f390306d58d2c1",
            "7f09ec6236c44c85a0d3e47599741b5a",
            "ee10ff0124e94041bff0f586c102c804"
          ]
        }
      },
      "source": [
        "transform = transforms.Compose(\n",
        "    [transforms.ToTensor()])\n",
        "train_dataset = torchvision.datasets.MNIST(root='./data', train=True, download=True, transform=transform)\n",
        "validation_dataset  = torchvision.datasets.MNIST(root='./data', train=False, download=True, transform=transform)\n",
        " \n",
        "train_loader = torch.utils.data.DataLoader(dataset=train_dataset, batch_size=50, shuffle=False)\n",
        "validation_loader = torch.utils.data.DataLoader(dataset=validation_dataset, batch_size=10000)"
      ],
      "execution_count": 0,
      "outputs": [
        {
          "output_type": "stream",
          "text": [
            "Downloading http://yann.lecun.com/exdb/mnist/train-images-idx3-ubyte.gz to ./data/MNIST/raw/train-images-idx3-ubyte.gz\n"
          ],
          "name": "stdout"
        },
        {
          "output_type": "display_data",
          "data": {
            "application/vnd.jupyter.widget-view+json": {
              "model_id": "7776b36a12014a369f9d6860092fe9ed",
              "version_minor": 0,
              "version_major": 2
            },
            "text/plain": [
              "HBox(children=(IntProgress(value=1, bar_style='info', max=1), HTML(value='')))"
            ]
          },
          "metadata": {
            "tags": []
          }
        },
        {
          "output_type": "stream",
          "text": [
            "\n",
            "Extracting ./data/MNIST/raw/train-images-idx3-ubyte.gz to ./data/MNIST/raw\n",
            "Downloading http://yann.lecun.com/exdb/mnist/train-labels-idx1-ubyte.gz to ./data/MNIST/raw/train-labels-idx1-ubyte.gz\n"
          ],
          "name": "stdout"
        },
        {
          "output_type": "display_data",
          "data": {
            "application/vnd.jupyter.widget-view+json": {
              "model_id": "f8100faa3ff0473aa3f390306d58d2c1",
              "version_minor": 0,
              "version_major": 2
            },
            "text/plain": [
              "HBox(children=(IntProgress(value=1, bar_style='info', max=1), HTML(value='')))"
            ]
          },
          "metadata": {
            "tags": []
          }
        },
        {
          "output_type": "stream",
          "text": [
            "\n",
            "Extracting ./data/MNIST/raw/train-labels-idx1-ubyte.gz to ./data/MNIST/raw\n",
            "Downloading http://yann.lecun.com/exdb/mnist/t10k-images-idx3-ubyte.gz to ./data/MNIST/raw/t10k-images-idx3-ubyte.gz\n"
          ],
          "name": "stdout"
        },
        {
          "output_type": "display_data",
          "data": {
            "application/vnd.jupyter.widget-view+json": {
              "model_id": "7f09ec6236c44c85a0d3e47599741b5a",
              "version_minor": 0,
              "version_major": 2
            },
            "text/plain": [
              "HBox(children=(IntProgress(value=1, bar_style='info', max=1), HTML(value='')))"
            ]
          },
          "metadata": {
            "tags": []
          }
        },
        {
          "output_type": "stream",
          "text": [
            "\n",
            "Extracting ./data/MNIST/raw/t10k-images-idx3-ubyte.gz to ./data/MNIST/raw\n",
            "Downloading http://yann.lecun.com/exdb/mnist/t10k-labels-idx1-ubyte.gz to ./data/MNIST/raw/t10k-labels-idx1-ubyte.gz\n"
          ],
          "name": "stdout"
        },
        {
          "output_type": "display_data",
          "data": {
            "application/vnd.jupyter.widget-view+json": {
              "model_id": "ee10ff0124e94041bff0f586c102c804",
              "version_minor": 0,
              "version_major": 2
            },
            "text/plain": [
              "HBox(children=(IntProgress(value=1, bar_style='info', max=1), HTML(value='')))"
            ]
          },
          "metadata": {
            "tags": []
          }
        },
        {
          "output_type": "stream",
          "text": [
            "\n",
            "Extracting ./data/MNIST/raw/t10k-labels-idx1-ubyte.gz to ./data/MNIST/raw\n",
            "Processing...\n",
            "Done!\n"
          ],
          "name": "stdout"
        }
      ]
    },
    {
      "cell_type": "markdown",
      "metadata": {
        "id": "0MuJtHrfbgCt",
        "colab_type": "text"
      },
      "source": [
        "<h2 id=\"LR_Loader_Cost\">Create a Linear Regression Object,  Data Loader, and Criterion Function</h2>"
      ]
    },
    {
      "cell_type": "code",
      "metadata": {
        "id": "ZsAO_Kuzaxf8",
        "colab_type": "code",
        "colab": {}
      },
      "source": [
        "# Create a linear regression model class\n",
        "from torch import nn, optim\n",
        "\n",
        "class linear_regression(nn.Module):\n",
        "    \n",
        "    # Constructor\n",
        "    def __init__(self, input_size, output_size):\n",
        "        super(linear_regression, self).__init__()\n",
        "        self.linear = nn.Linear(input_size, output_size)\n",
        "        \n",
        "    # Prediction\n",
        "    def forward(self, x):\n",
        "        yhat = self.linear(x)\n",
        "        return yhat"
      ],
      "execution_count": 0,
      "outputs": []
    },
    {
      "cell_type": "code",
      "metadata": {
        "id": "OOpxz3oNxhlF",
        "colab_type": "code",
        "outputId": "882a22e2-008c-4a77-eda3-be51675e4aab",
        "colab": {
          "base_uri": "https://localhost:8080/",
          "height": 68
        }
      },
      "source": [
        "model = linear_regression(28*28, 10)\n",
        "model.cuda()"
      ],
      "execution_count": 0,
      "outputs": [
        {
          "output_type": "execute_result",
          "data": {
            "text/plain": [
              "linear_regression(\n",
              "  (linear): Linear(in_features=784, out_features=10, bias=True)\n",
              ")"
            ]
          },
          "metadata": {
            "tags": []
          },
          "execution_count": 161
        }
      ]
    },
    {
      "cell_type": "code",
      "metadata": {
        "id": "mJJWB2nE1uMJ",
        "colab_type": "code",
        "outputId": "eebd350b-ebb4-41a7-861a-e6c8fa76305a",
        "colab": {
          "base_uri": "https://localhost:8080/",
          "height": 34
        }
      },
      "source": [
        "print(torch.cuda.is_available())"
      ],
      "execution_count": 0,
      "outputs": [
        {
          "output_type": "stream",
          "text": [
            "True\n"
          ],
          "name": "stdout"
        }
      ]
    },
    {
      "cell_type": "code",
      "metadata": {
        "id": "ngwryA91a2DR",
        "colab_type": "code",
        "colab": {}
      },
      "source": [
        "# Create a stochastic gradient descent optimizer\n",
        "optimizer = optim.SGD(model.parameters(), lr = 0.01)\n",
        "# Create a loss function\n",
        "criterion = nn.CrossEntropyLoss()"
      ],
      "execution_count": 0,
      "outputs": []
    },
    {
      "cell_type": "code",
      "metadata": {
        "id": "p8QhogGLEjVh",
        "colab_type": "code",
        "outputId": "5915ca59-2683-4dab-9675-43f6c6bfed57",
        "colab": {
          "base_uri": "https://localhost:8080/",
          "height": 34
        }
      },
      "source": [
        "for epoch in range(10):\n",
        "    for batch_idx, (data, target) in enumerate(train_loader):\n",
        "        data, target = Variable(data).cuda(), Variable(target).cuda()\n",
        "        # resize data from (batch_size, 1, 28, 28) to (batch_size, 28*28)\n",
        "        data = data.view(-1, 28*28)\n",
        "        optimizer.zero_grad()\n",
        "        net_out = model(data).cuda()\n",
        "        loss = criterion(net_out, target)\n",
        "        print(loss.item())\n",
        "        break;\n",
        "    break;    "
      ],
      "execution_count": 0,
      "outputs": [
        {
          "output_type": "stream",
          "text": [
            "2.3062825202941895\n"
          ],
          "name": "stdout"
        }
      ]
    },
    {
      "cell_type": "code",
      "metadata": {
        "id": "olFvObtAxfQy",
        "colab_type": "code",
        "outputId": "25e0fbfa-44cc-4c14-8b08-5f7a84dcef1a",
        "colab": {
          "base_uri": "https://localhost:8080/",
          "height": 102
        }
      },
      "source": [
        "# run the main training loop\n",
        "for epoch in range(5):\n",
        "    for batch_idx, (data, target) in enumerate(train_loader):\n",
        "        data, target = Variable(data).cuda(), Variable(target).cuda()\n",
        "        # resize data from (batch_size, 1, 28, 28) to (batch_size, 28*28)\n",
        "        data = data.view(-1, 28*28)\n",
        "        optimizer.zero_grad()\n",
        "        net_out = model(data).cuda()\n",
        "        loss = criterion(net_out, target)\n",
        "        loss.backward()\n",
        "        optimizer.step()\n",
        "        if batch_idx % 1200 == 0:\n",
        "            print('Train Epoch: {} Loss: {:.6f}'.format(epoch+1, loss.item()))"
      ],
      "execution_count": 0,
      "outputs": [
        {
          "output_type": "stream",
          "text": [
            "Train Epoch: 1 Loss: 2.306283\n",
            "Train Epoch: 2 Loss: 0.619052\n",
            "Train Epoch: 3 Loss: 0.499743\n",
            "Train Epoch: 4 Loss: 0.446811\n",
            "Train Epoch: 5 Loss: 0.414176\n"
          ],
          "name": "stdout"
        }
      ]
    },
    {
      "cell_type": "code",
      "metadata": {
        "id": "Ge6yRjs02aFT",
        "colab_type": "code",
        "outputId": "166d8f38-2f16-4f46-a045-582d93477cde",
        "colab": {
          "base_uri": "https://localhost:8080/",
          "height": 34
        }
      },
      "source": [
        "# run a test loop\n",
        "with torch.no_grad():\n",
        "    test_loss = 0\n",
        "    correct = 0\n",
        "    for data, target in validation_loader:\n",
        "        data, target = Variable(data).cuda(), Variable(target).cuda()\n",
        "        data = data.view(-1, 28 * 28)\n",
        "        net_out = model(data).cuda()\n",
        "        # sum up batch loss\n",
        "        test_loss += criterion(net_out, target).item()\n",
        "        pred = net_out.data.max(1)[1]  # get the index of the max log-probability\n",
        "        correct += pred.eq(target.data).sum()\n",
        "print('Test loss: {:.4f}, Accuracy: {:.0f}%'.format(test_loss, 100. * correct / len(validation_loader.dataset)))"
      ],
      "execution_count": 0,
      "outputs": [
        {
          "output_type": "stream",
          "text": [
            "Test loss: 0.3606, Accuracy: 90%\n"
          ],
          "name": "stdout"
        }
      ]
    },
    {
      "cell_type": "markdown",
      "metadata": {
        "id": "z1HIo63cbuny",
        "colab_type": "text"
      },
      "source": [
        "<h2 id=\"LR_Hyper\">Different learning rates and Data Structures to Store results for different Hyperparameters</h2>\n",
        "Create a list with different learning rates and a tensor (can be a list) for the training and validating cost/total loss. Include the list MODELS, which stores the training model for every value of the learning rate."
      ]
    },
    {
      "cell_type": "code",
      "metadata": {
        "id": "pr-2O9RkbwSH",
        "colab_type": "code",
        "colab": {}
      },
      "source": [
        "# Create Learning Rate list, the error lists and the MODELS list\n",
        "learning_rates=[2**-10, 2**-9, 2**-8, 2**-7, 2**-6, 2**-5, 2**-4, 2**-3, 2**-2, 2**-1, 1, 2, 2**2, 2**3, 2**4, 2**5, 2**6, 2**7, 2**8, 2**9, 2**10]\n",
        "\n",
        "train_error_50 = torch.zeros(len(learning_rates))\n",
        "validation_error_50 = torch.zeros(len(learning_rates))\n",
        "\n",
        "MODELS=[]"
      ],
      "execution_count": 0,
      "outputs": []
    },
    {
      "cell_type": "markdown",
      "metadata": {
        "id": "4GuKy5vab5kB",
        "colab_type": "text"
      },
      "source": [
        "<h2 id=\"Model\">Train different models  for different Hyperparameters</h2>\n",
        "Try different values of learning rates, perform stochastic gradient descent, and save the results on the training data and validation data. Finally, save each model in a list."
      ]
    },
    {
      "cell_type": "code",
      "metadata": {
        "id": "AvO3c2xz2NTP",
        "colab_type": "code",
        "outputId": "e64b83da-fdb8-491b-8fa0-4e18c66e87cb",
        "colab": {
          "base_uri": "https://localhost:8080/",
          "height": 51
        }
      },
      "source": [
        "for epoch in range(10):\n",
        "    for batch_idx, (data, target) in enumerate(train_loader):\n",
        "        data, target = Variable(data).cuda(), Variable(target).cuda()\n",
        "        # resize data from (batch_size, 1, 28, 28) to (batch_size, 28*28)\n",
        "        data = data.view(-1, 28*28)\n",
        "        optimizer.zero_grad()\n",
        "        net_out = model(data).cuda()\n",
        "        loss = criterion(net_out, target)\n",
        "        print(batch_idx)\n",
        "        print(loss.item())\n",
        "        break;\n",
        "    break;   "
      ],
      "execution_count": 0,
      "outputs": [
        {
          "output_type": "stream",
          "text": [
            "0\n",
            "0.3909375071525574\n"
          ],
          "name": "stdout"
        }
      ]
    },
    {
      "cell_type": "code",
      "metadata": {
        "id": "MHoAi6Jmb6gi",
        "colab_type": "code",
        "outputId": "44491071-371e-4192-fbcb-ee36e9bea31a",
        "colab": {
          "base_uri": "https://localhost:8080/",
          "height": 1000
        }
      },
      "source": [
        "# Define the train model function and train the model\n",
        "def train_model_with_lr (iter, lr_list):    \n",
        "    # iterate through different learning rates \n",
        "    for i, lr in enumerate(lr_list):\n",
        "        print(\"################################################\")\n",
        "        print('Learning rate: {}'.format(lr))\n",
        "        model = linear_regression(28*28, 10).cuda()\n",
        "        optimizer = optim.SGD(model.parameters(), lr = lr)\n",
        "        for epoch in range(iter):  \n",
        "            # run the main training loop\n",
        "            loss_50 = 0          \n",
        "            for batch_i, (data, target) in enumerate(train_loader):\n",
        "                data, target = Variable(data).cuda(), Variable(target).cuda()\n",
        "                # resize data from (batch_size, 1, 28, 28) to (batch_size, 28*28)\n",
        "                data = data.view(-1, 28*28)                \n",
        "                net_out = model(data).cuda()\n",
        "                loss_50 = criterion(net_out, target)\n",
        "                if batch_i == 0 and epoch == 0:\n",
        "                    print('The intial loss value:',loss_50.item()) \n",
        "                loss_50.backward()\n",
        "                optimizer.step()\n",
        "                optimizer.zero_grad()\n",
        "                if batch_i % 1200 == 0:\n",
        "                    print('Train Epoch: {} Loss: {:.6f}'.format(epoch+1, loss_50.item()))\n",
        "            # run a test loop\n",
        "            model.eval()\n",
        "            with torch.no_grad():\n",
        "                test_loss_50 = 0\n",
        "                correct = 0            \n",
        "                for data, target in validation_loader:\n",
        "                    data, target = Variable(data).cuda(), Variable(target).cuda()\n",
        "                    data = data.view(-1, 28 * 28)\n",
        "                    net_out = model(data).cuda()\n",
        "                    # sum up batch loss\n",
        "                    test_loss_50 += criterion(net_out, target)#.item()\n",
        "                    pred = net_out.data.max(1)[1]  # get the index of the max log-probability\n",
        "                    correct += pred.eq(target.data).sum()\n",
        "                print('Validation loss: {:.4f}, Accuracy: {:.0f}%'.format(test_loss_50, 100. * correct / len(validation_loader.dataset)))\n",
        "        train_error_50[i] = loss_50.item()\n",
        "        validation_error_50[i] = test_loss_50.item()\n",
        "        MODELS.append(model)      \n",
        "\n",
        "train_model_with_lr(10, learning_rates)"
      ],
      "execution_count": 0,
      "outputs": [
        {
          "output_type": "stream",
          "text": [
            "################################################\n",
            "Learning rate: 0.0009765625\n",
            "The intial loss value: 2.3076601028442383\n",
            "Train Epoch: 1 Loss: 2.307660\n",
            "Validation loss: 1.4685, Accuracy: 77%\n",
            "Train Epoch: 2 Loss: 1.513020\n",
            "Validation loss: 1.0994, Accuracy: 82%\n",
            "Train Epoch: 3 Loss: 1.164247\n",
            "Validation loss: 0.9118, Accuracy: 84%\n",
            "Train Epoch: 4 Loss: 0.981748\n",
            "Validation loss: 0.8001, Accuracy: 85%\n",
            "Train Epoch: 5 Loss: 0.870607\n",
            "Validation loss: 0.7258, Accuracy: 85%\n",
            "Train Epoch: 6 Loss: 0.795576\n",
            "Validation loss: 0.6726, Accuracy: 86%\n",
            "Train Epoch: 7 Loss: 0.741201\n",
            "Validation loss: 0.6324, Accuracy: 86%\n",
            "Train Epoch: 8 Loss: 0.699729\n",
            "Validation loss: 0.6008, Accuracy: 87%\n",
            "Train Epoch: 9 Loss: 0.666861\n",
            "Validation loss: 0.5753, Accuracy: 87%\n",
            "Train Epoch: 10 Loss: 0.640028\n",
            "Validation loss: 0.5541, Accuracy: 87%\n",
            "################################################\n",
            "Learning rate: 0.001953125\n",
            "The intial loss value: 2.3123161792755127\n",
            "Train Epoch: 1 Loss: 2.312316\n",
            "Validation loss: 1.0975, Accuracy: 81%\n",
            "Train Epoch: 2 Loss: 1.173552\n",
            "Validation loss: 0.8005, Accuracy: 84%\n",
            "Train Epoch: 3 Loss: 0.882423\n",
            "Validation loss: 0.6733, Accuracy: 86%\n",
            "Train Epoch: 4 Loss: 0.753742\n",
            "Validation loss: 0.6013, Accuracy: 87%\n",
            "Train Epoch: 5 Loss: 0.679480\n",
            "Validation loss: 0.5544, Accuracy: 87%\n",
            "Train Epoch: 6 Loss: 0.630036\n",
            "Validation loss: 0.5209, Accuracy: 88%\n",
            "Train Epoch: 7 Loss: 0.594097\n",
            "Validation loss: 0.4957, Accuracy: 88%\n",
            "Train Epoch: 8 Loss: 0.566398\n",
            "Validation loss: 0.4759, Accuracy: 88%\n",
            "Train Epoch: 9 Loss: 0.544143\n",
            "Validation loss: 0.4599, Accuracy: 89%\n",
            "Train Epoch: 10 Loss: 0.525704\n",
            "Validation loss: 0.4465, Accuracy: 89%\n",
            "################################################\n",
            "Learning rate: 0.00390625\n",
            "The intial loss value: 2.3328845500946045\n",
            "Train Epoch: 1 Loss: 2.332885\n",
            "Validation loss: 0.7994, Accuracy: 85%\n",
            "Train Epoch: 2 Loss: 0.892893\n",
            "Validation loss: 0.6009, Accuracy: 87%\n",
            "Train Epoch: 3 Loss: 0.684173\n",
            "Validation loss: 0.5211, Accuracy: 88%\n",
            "Train Epoch: 4 Loss: 0.596172\n",
            "Validation loss: 0.4764, Accuracy: 88%\n",
            "Train Epoch: 5 Loss: 0.544707\n",
            "Validation loss: 0.4471, Accuracy: 89%\n",
            "Train Epoch: 6 Loss: 0.509686\n",
            "Validation loss: 0.4262, Accuracy: 89%\n",
            "Train Epoch: 7 Loss: 0.483688\n",
            "Validation loss: 0.4103, Accuracy: 89%\n",
            "Train Epoch: 8 Loss: 0.463266\n",
            "Validation loss: 0.3978, Accuracy: 90%\n",
            "Train Epoch: 9 Loss: 0.446579\n",
            "Validation loss: 0.3875, Accuracy: 90%\n",
            "Train Epoch: 10 Loss: 0.432539\n",
            "Validation loss: 0.3790, Accuracy: 90%\n",
            "################################################\n",
            "Learning rate: 0.0078125\n",
            "The intial loss value: 2.2839813232421875\n",
            "Train Epoch: 1 Loss: 2.283981\n",
            "Validation loss: 0.6018, Accuracy: 87%\n",
            "Train Epoch: 2 Loss: 0.679238\n",
            "Validation loss: 0.4772, Accuracy: 88%\n",
            "Train Epoch: 3 Loss: 0.541577\n",
            "Validation loss: 0.4269, Accuracy: 89%\n",
            "Train Epoch: 4 Loss: 0.481617\n",
            "Validation loss: 0.3983, Accuracy: 90%\n",
            "Train Epoch: 5 Loss: 0.445254\n",
            "Validation loss: 0.3794, Accuracy: 90%\n",
            "Train Epoch: 6 Loss: 0.419692\n",
            "Validation loss: 0.3658, Accuracy: 90%\n",
            "Train Epoch: 7 Loss: 0.400167\n",
            "Validation loss: 0.3554, Accuracy: 90%\n",
            "Train Epoch: 8 Loss: 0.384448\n",
            "Validation loss: 0.3471, Accuracy: 91%\n",
            "Train Epoch: 9 Loss: 0.371332\n",
            "Validation loss: 0.3404, Accuracy: 91%\n",
            "Train Epoch: 10 Loss: 0.360103\n",
            "Validation loss: 0.3347, Accuracy: 91%\n",
            "################################################\n",
            "Learning rate: 0.015625\n",
            "The intial loss value: 2.342367649078369\n",
            "Train Epoch: 1 Loss: 2.342368\n",
            "Validation loss: 0.4766, Accuracy: 88%\n",
            "Train Epoch: 2 Loss: 0.542098\n",
            "Validation loss: 0.3983, Accuracy: 89%\n",
            "Train Epoch: 3 Loss: 0.445899\n",
            "Validation loss: 0.3659, Accuracy: 90%\n",
            "Train Epoch: 4 Loss: 0.400306\n",
            "Validation loss: 0.3472, Accuracy: 91%\n",
            "Train Epoch: 5 Loss: 0.370991\n",
            "Validation loss: 0.3348, Accuracy: 91%\n",
            "Train Epoch: 6 Loss: 0.349580\n",
            "Validation loss: 0.3259, Accuracy: 91%\n",
            "Train Epoch: 7 Loss: 0.332816\n",
            "Validation loss: 0.3190, Accuracy: 91%\n",
            "Train Epoch: 8 Loss: 0.319111\n",
            "Validation loss: 0.3135, Accuracy: 91%\n",
            "Train Epoch: 9 Loss: 0.307569\n",
            "Validation loss: 0.3091, Accuracy: 92%\n",
            "Train Epoch: 10 Loss: 0.297640\n",
            "Validation loss: 0.3054, Accuracy: 92%\n",
            "################################################\n",
            "Learning rate: 0.03125\n",
            "The intial loss value: 2.325091600418091\n",
            "Train Epoch: 1 Loss: 2.325092\n",
            "Validation loss: 0.3990, Accuracy: 89%\n",
            "Train Epoch: 2 Loss: 0.442479\n",
            "Validation loss: 0.3479, Accuracy: 91%\n",
            "Train Epoch: 3 Loss: 0.368039\n",
            "Validation loss: 0.3265, Accuracy: 91%\n",
            "Train Epoch: 4 Loss: 0.330725\n",
            "Validation loss: 0.3143, Accuracy: 91%\n",
            "Train Epoch: 5 Loss: 0.306165\n",
            "Validation loss: 0.3061, Accuracy: 92%\n",
            "Train Epoch: 6 Loss: 0.288050\n",
            "Validation loss: 0.3003, Accuracy: 92%\n",
            "Train Epoch: 7 Loss: 0.273854\n",
            "Validation loss: 0.2959, Accuracy: 92%\n",
            "Train Epoch: 8 Loss: 0.262308\n",
            "Validation loss: 0.2924, Accuracy: 92%\n",
            "Train Epoch: 9 Loss: 0.252678\n",
            "Validation loss: 0.2896, Accuracy: 92%\n",
            "Train Epoch: 10 Loss: 0.244495\n",
            "Validation loss: 0.2873, Accuracy: 92%\n",
            "################################################\n",
            "Learning rate: 0.0625\n",
            "The intial loss value: 2.2914295196533203\n",
            "Train Epoch: 1 Loss: 2.291430\n",
            "Validation loss: 0.3508, Accuracy: 91%\n",
            "Train Epoch: 2 Loss: 0.375289\n",
            "Validation loss: 0.3170, Accuracy: 91%\n",
            "Train Epoch: 3 Loss: 0.312155\n",
            "Validation loss: 0.3030, Accuracy: 91%\n",
            "Train Epoch: 4 Loss: 0.278762\n",
            "Validation loss: 0.2951, Accuracy: 92%\n",
            "Train Epoch: 5 Loss: 0.256717\n",
            "Validation loss: 0.2900, Accuracy: 92%\n",
            "Train Epoch: 6 Loss: 0.240799\n",
            "Validation loss: 0.2864, Accuracy: 92%\n",
            "Train Epoch: 7 Loss: 0.228705\n",
            "Validation loss: 0.2838, Accuracy: 92%\n",
            "Train Epoch: 8 Loss: 0.219194\n",
            "Validation loss: 0.2817, Accuracy: 92%\n",
            "Train Epoch: 9 Loss: 0.211520\n",
            "Validation loss: 0.2801, Accuracy: 92%\n",
            "Train Epoch: 10 Loss: 0.205201\n",
            "Validation loss: 0.2787, Accuracy: 92%\n",
            "################################################\n",
            "Learning rate: 0.125\n",
            "The intial loss value: 2.3284687995910645\n",
            "Train Epoch: 1 Loss: 2.328469\n",
            "Validation loss: 0.3258, Accuracy: 91%\n",
            "Train Epoch: 2 Loss: 0.309190\n",
            "Validation loss: 0.3036, Accuracy: 91%\n",
            "Train Epoch: 3 Loss: 0.257915\n",
            "Validation loss: 0.2949, Accuracy: 91%\n",
            "Train Epoch: 4 Loss: 0.231737\n",
            "Validation loss: 0.2901, Accuracy: 92%\n",
            "Train Epoch: 5 Loss: 0.215586\n",
            "Validation loss: 0.2871, Accuracy: 92%\n",
            "Train Epoch: 6 Loss: 0.204654\n",
            "Validation loss: 0.2850, Accuracy: 92%\n",
            "Train Epoch: 7 Loss: 0.196766\n",
            "Validation loss: 0.2834, Accuracy: 92%\n",
            "Train Epoch: 8 Loss: 0.190781\n",
            "Validation loss: 0.2822, Accuracy: 92%\n",
            "Train Epoch: 9 Loss: 0.186047\n",
            "Validation loss: 0.2812, Accuracy: 92%\n",
            "Train Epoch: 10 Loss: 0.182169\n",
            "Validation loss: 0.2803, Accuracy: 92%\n",
            "################################################\n",
            "Learning rate: 0.25\n",
            "The intial loss value: 2.260152816772461\n",
            "Train Epoch: 1 Loss: 2.260153\n",
            "Validation loss: 0.3173, Accuracy: 91%\n",
            "Train Epoch: 2 Loss: 0.263195\n",
            "Validation loss: 0.3037, Accuracy: 91%\n",
            "Train Epoch: 3 Loss: 0.222597\n",
            "Validation loss: 0.2987, Accuracy: 91%\n",
            "Train Epoch: 4 Loss: 0.205051\n",
            "Validation loss: 0.2960, Accuracy: 91%\n",
            "Train Epoch: 5 Loss: 0.195087\n",
            "Validation loss: 0.2942, Accuracy: 92%\n",
            "Train Epoch: 6 Loss: 0.188396\n",
            "Validation loss: 0.2928, Accuracy: 92%\n",
            "Train Epoch: 7 Loss: 0.183373\n",
            "Validation loss: 0.2918, Accuracy: 92%\n",
            "Train Epoch: 8 Loss: 0.179316\n",
            "Validation loss: 0.2910, Accuracy: 92%\n",
            "Train Epoch: 9 Loss: 0.175880\n",
            "Validation loss: 0.2904, Accuracy: 92%\n",
            "Train Epoch: 10 Loss: 0.172878\n",
            "Validation loss: 0.2899, Accuracy: 92%\n",
            "################################################\n",
            "Learning rate: 0.5\n",
            "The intial loss value: 2.2637717723846436\n",
            "Train Epoch: 1 Loss: 2.263772\n",
            "Validation loss: 0.3273, Accuracy: 90%\n",
            "Train Epoch: 2 Loss: 0.220776\n",
            "Validation loss: 0.3166, Accuracy: 91%\n",
            "Train Epoch: 3 Loss: 0.192332\n",
            "Validation loss: 0.3132, Accuracy: 91%\n",
            "Train Epoch: 4 Loss: 0.181637\n",
            "Validation loss: 0.3115, Accuracy: 91%\n",
            "Train Epoch: 5 Loss: 0.175193\n",
            "Validation loss: 0.3104, Accuracy: 91%\n",
            "Train Epoch: 6 Loss: 0.170435\n",
            "Validation loss: 0.3097, Accuracy: 91%\n",
            "Train Epoch: 7 Loss: 0.166570\n",
            "Validation loss: 0.3093, Accuracy: 91%\n",
            "Train Epoch: 8 Loss: 0.163277\n",
            "Validation loss: 0.3091, Accuracy: 91%\n",
            "Train Epoch: 9 Loss: 0.160403\n",
            "Validation loss: 0.3091, Accuracy: 91%\n",
            "Train Epoch: 10 Loss: 0.157861\n",
            "Validation loss: 0.3091, Accuracy: 91%\n",
            "################################################\n",
            "Learning rate: 1\n",
            "The intial loss value: 2.255598545074463\n",
            "Train Epoch: 1 Loss: 2.255599\n",
            "Validation loss: 0.4457, Accuracy: 88%\n",
            "Train Epoch: 2 Loss: 0.206422\n",
            "Validation loss: 0.4256, Accuracy: 89%\n",
            "Train Epoch: 3 Loss: 0.182298\n",
            "Validation loss: 0.4151, Accuracy: 89%\n",
            "Train Epoch: 4 Loss: 0.173231\n",
            "Validation loss: 0.4031, Accuracy: 89%\n",
            "Train Epoch: 5 Loss: 0.167958\n",
            "Validation loss: 0.3925, Accuracy: 90%\n",
            "Train Epoch: 6 Loss: 0.162133\n",
            "Validation loss: 0.3845, Accuracy: 90%\n",
            "Train Epoch: 7 Loss: 0.155575\n",
            "Validation loss: 0.3800, Accuracy: 90%\n",
            "Train Epoch: 8 Loss: 0.150510\n",
            "Validation loss: 0.3777, Accuracy: 90%\n",
            "Train Epoch: 9 Loss: 0.146640\n",
            "Validation loss: 0.3768, Accuracy: 90%\n",
            "Train Epoch: 10 Loss: 0.143606\n",
            "Validation loss: 0.3766, Accuracy: 90%\n",
            "################################################\n",
            "Learning rate: 2\n",
            "The intial loss value: 2.3370261192321777\n",
            "Train Epoch: 1 Loss: 2.337026\n",
            "Validation loss: 0.9129, Accuracy: 86%\n",
            "Train Epoch: 2 Loss: 0.309829\n",
            "Validation loss: 0.8104, Accuracy: 86%\n",
            "Train Epoch: 3 Loss: 0.202776\n",
            "Validation loss: 0.7644, Accuracy: 87%\n",
            "Train Epoch: 4 Loss: 0.164343\n",
            "Validation loss: 0.7416, Accuracy: 87%\n",
            "Train Epoch: 5 Loss: 0.175378\n",
            "Validation loss: 0.6917, Accuracy: 87%\n",
            "Train Epoch: 6 Loss: 0.182568\n",
            "Validation loss: 0.7307, Accuracy: 87%\n",
            "Train Epoch: 7 Loss: 0.180287\n",
            "Validation loss: 0.7930, Accuracy: 86%\n",
            "Train Epoch: 8 Loss: 0.158577\n",
            "Validation loss: 0.8408, Accuracy: 86%\n",
            "Train Epoch: 9 Loss: 0.154756\n",
            "Validation loss: 0.8393, Accuracy: 86%\n",
            "Train Epoch: 10 Loss: 0.155197\n",
            "Validation loss: 0.7898, Accuracy: 86%\n",
            "################################################\n",
            "Learning rate: 4\n",
            "The intial loss value: 2.307811975479126\n",
            "Train Epoch: 1 Loss: 2.307812\n",
            "Validation loss: 1.9038, Accuracy: 85%\n",
            "Train Epoch: 2 Loss: 0.486839\n",
            "Validation loss: 1.5139, Accuracy: 87%\n",
            "Train Epoch: 3 Loss: 0.475203\n",
            "Validation loss: 1.2472, Accuracy: 87%\n",
            "Train Epoch: 4 Loss: 0.296960\n",
            "Validation loss: 1.0834, Accuracy: 89%\n",
            "Train Epoch: 5 Loss: 0.371779\n",
            "Validation loss: 1.2809, Accuracy: 88%\n",
            "Train Epoch: 6 Loss: 0.413016\n",
            "Validation loss: 1.1782, Accuracy: 88%\n",
            "Train Epoch: 7 Loss: 0.319478\n",
            "Validation loss: 1.6271, Accuracy: 85%\n",
            "Train Epoch: 8 Loss: 0.377587\n",
            "Validation loss: 1.1401, Accuracy: 88%\n",
            "Train Epoch: 9 Loss: 0.235451\n",
            "Validation loss: 1.8823, Accuracy: 84%\n",
            "Train Epoch: 10 Loss: 0.378193\n",
            "Validation loss: 1.0861, Accuracy: 88%\n",
            "################################################\n",
            "Learning rate: 8\n",
            "The intial loss value: 2.284346342086792\n",
            "Train Epoch: 1 Loss: 2.284346\n",
            "Validation loss: 2.2334, Accuracy: 89%\n",
            "Train Epoch: 2 Loss: 0.879743\n",
            "Validation loss: 2.2899, Accuracy: 88%\n",
            "Train Epoch: 3 Loss: 1.335803\n",
            "Validation loss: 1.9316, Accuracy: 89%\n",
            "Train Epoch: 4 Loss: 0.667990\n",
            "Validation loss: 3.2357, Accuracy: 86%\n",
            "Train Epoch: 5 Loss: 0.567265\n",
            "Validation loss: 3.9623, Accuracy: 83%\n",
            "Train Epoch: 6 Loss: 1.246976\n",
            "Validation loss: 2.5244, Accuracy: 87%\n",
            "Train Epoch: 7 Loss: 0.721060\n",
            "Validation loss: 2.0850, Accuracy: 89%\n",
            "Train Epoch: 8 Loss: 0.547983\n",
            "Validation loss: 2.1760, Accuracy: 89%\n",
            "Train Epoch: 9 Loss: 0.714475\n",
            "Validation loss: 2.9204, Accuracy: 86%\n",
            "Train Epoch: 10 Loss: 0.752432\n",
            "Validation loss: 2.2782, Accuracy: 88%\n",
            "################################################\n",
            "Learning rate: 16\n",
            "The intial loss value: 2.3459606170654297\n",
            "Train Epoch: 1 Loss: 2.345961\n",
            "Validation loss: 6.4431, Accuracy: 86%\n",
            "Train Epoch: 2 Loss: 2.458228\n",
            "Validation loss: 5.5715, Accuracy: 87%\n",
            "Train Epoch: 3 Loss: 1.664879\n",
            "Validation loss: 7.5417, Accuracy: 86%\n",
            "Train Epoch: 4 Loss: 1.320280\n",
            "Validation loss: 5.5502, Accuracy: 87%\n",
            "Train Epoch: 5 Loss: 0.901161\n",
            "Validation loss: 4.1208, Accuracy: 89%\n",
            "Train Epoch: 6 Loss: 1.356101\n",
            "Validation loss: 4.2763, Accuracy: 89%\n",
            "Train Epoch: 7 Loss: 1.218441\n",
            "Validation loss: 5.5305, Accuracy: 87%\n",
            "Train Epoch: 8 Loss: 0.956991\n",
            "Validation loss: 4.2559, Accuracy: 89%\n",
            "Train Epoch: 9 Loss: 1.306851\n",
            "Validation loss: 4.9846, Accuracy: 87%\n",
            "Train Epoch: 10 Loss: 1.750955\n",
            "Validation loss: 7.6159, Accuracy: 86%\n",
            "################################################\n",
            "Learning rate: 32\n",
            "The intial loss value: 2.2950899600982666\n",
            "Train Epoch: 1 Loss: 2.295090\n",
            "Validation loss: 14.7231, Accuracy: 85%\n",
            "Train Epoch: 2 Loss: 6.331537\n",
            "Validation loss: 8.5127, Accuracy: 89%\n",
            "Train Epoch: 3 Loss: 3.836741\n",
            "Validation loss: 8.1992, Accuracy: 89%\n",
            "Train Epoch: 4 Loss: 3.394680\n",
            "Validation loss: 14.3259, Accuracy: 84%\n",
            "Train Epoch: 5 Loss: 3.167714\n",
            "Validation loss: 11.1639, Accuracy: 87%\n",
            "Train Epoch: 6 Loss: 1.955665\n",
            "Validation loss: 12.9712, Accuracy: 85%\n",
            "Train Epoch: 7 Loss: 5.685121\n",
            "Validation loss: 9.9493, Accuracy: 88%\n",
            "Train Epoch: 8 Loss: 3.194046\n",
            "Validation loss: 10.3456, Accuracy: 87%\n",
            "Train Epoch: 9 Loss: 0.450482\n",
            "Validation loss: 13.1207, Accuracy: 85%\n",
            "Train Epoch: 10 Loss: 2.075136\n",
            "Validation loss: 14.6485, Accuracy: 85%\n",
            "################################################\n",
            "Learning rate: 64\n",
            "The intial loss value: 2.3134777545928955\n",
            "Train Epoch: 1 Loss: 2.313478\n",
            "Validation loss: 24.9300, Accuracy: 86%\n",
            "Train Epoch: 2 Loss: 9.118704\n",
            "Validation loss: 22.5856, Accuracy: 86%\n",
            "Train Epoch: 3 Loss: 14.352686\n",
            "Validation loss: 18.6306, Accuracy: 88%\n",
            "Train Epoch: 4 Loss: 7.502725\n",
            "Validation loss: 22.4900, Accuracy: 87%\n",
            "Train Epoch: 5 Loss: 5.056168\n",
            "Validation loss: 19.1116, Accuracy: 87%\n",
            "Train Epoch: 6 Loss: 5.768308\n",
            "Validation loss: 20.5861, Accuracy: 87%\n",
            "Train Epoch: 7 Loss: 5.384376\n",
            "Validation loss: 20.2489, Accuracy: 88%\n",
            "Train Epoch: 8 Loss: 3.447103\n",
            "Validation loss: 23.6627, Accuracy: 87%\n",
            "Train Epoch: 9 Loss: 3.199543\n",
            "Validation loss: 24.3454, Accuracy: 86%\n",
            "Train Epoch: 10 Loss: 4.180282\n",
            "Validation loss: 24.1879, Accuracy: 86%\n",
            "################################################\n",
            "Learning rate: 128\n",
            "The intial loss value: 2.3433897495269775\n",
            "Train Epoch: 1 Loss: 2.343390\n",
            "Validation loss: 45.2507, Accuracy: 87%\n",
            "Train Epoch: 2 Loss: 5.352569\n",
            "Validation loss: 40.0740, Accuracy: 87%\n",
            "Train Epoch: 3 Loss: 16.180788\n",
            "Validation loss: 63.6671, Accuracy: 84%\n",
            "Train Epoch: 4 Loss: 6.344127\n",
            "Validation loss: 35.0687, Accuracy: 89%\n",
            "Train Epoch: 5 Loss: 7.570986\n",
            "Validation loss: 49.4391, Accuracy: 87%\n",
            "Train Epoch: 6 Loss: 14.996726\n",
            "Validation loss: 42.4354, Accuracy: 88%\n",
            "Train Epoch: 7 Loss: 10.745216\n",
            "Validation loss: 45.2426, Accuracy: 87%\n",
            "Train Epoch: 8 Loss: 7.866248\n",
            "Validation loss: 51.3202, Accuracy: 86%\n",
            "Train Epoch: 9 Loss: 14.905931\n",
            "Validation loss: 40.0430, Accuracy: 88%\n",
            "Train Epoch: 10 Loss: 8.762352\n",
            "Validation loss: 63.7858, Accuracy: 85%\n",
            "################################################\n",
            "Learning rate: 256\n",
            "The intial loss value: 2.3387346267700195\n",
            "Train Epoch: 1 Loss: 2.338735\n",
            "Validation loss: 97.3804, Accuracy: 86%\n",
            "Train Epoch: 2 Loss: 24.783710\n",
            "Validation loss: 148.0034, Accuracy: 84%\n",
            "Train Epoch: 3 Loss: 24.192455\n",
            "Validation loss: 70.2055, Accuracy: 89%\n",
            "Train Epoch: 4 Loss: 34.162987\n",
            "Validation loss: 66.3686, Accuracy: 89%\n",
            "Train Epoch: 5 Loss: 37.189861\n",
            "Validation loss: 79.4888, Accuracy: 88%\n",
            "Train Epoch: 6 Loss: 16.538532\n",
            "Validation loss: 76.9990, Accuracy: 89%\n",
            "Train Epoch: 7 Loss: 27.281904\n",
            "Validation loss: 70.2224, Accuracy: 89%\n",
            "Train Epoch: 8 Loss: 20.367432\n",
            "Validation loss: 124.9729, Accuracy: 84%\n",
            "Train Epoch: 9 Loss: 36.227417\n",
            "Validation loss: 84.1945, Accuracy: 87%\n",
            "Train Epoch: 10 Loss: 34.385353\n",
            "Validation loss: 110.3402, Accuracy: 86%\n",
            "################################################\n",
            "Learning rate: 512\n",
            "The intial loss value: 2.2902746200561523\n",
            "Train Epoch: 1 Loss: 2.290275\n",
            "Validation loss: 223.3199, Accuracy: 85%\n",
            "Train Epoch: 2 Loss: 91.171806\n",
            "Validation loss: 211.5076, Accuracy: 85%\n",
            "Train Epoch: 3 Loss: 109.809158\n",
            "Validation loss: 159.1928, Accuracy: 87%\n",
            "Train Epoch: 4 Loss: 48.506611\n",
            "Validation loss: 190.9568, Accuracy: 86%\n",
            "Train Epoch: 5 Loss: 39.913734\n",
            "Validation loss: 146.8573, Accuracy: 88%\n",
            "Train Epoch: 6 Loss: 73.200714\n",
            "Validation loss: 149.1296, Accuracy: 87%\n",
            "Train Epoch: 7 Loss: 50.840820\n",
            "Validation loss: 214.9442, Accuracy: 86%\n",
            "Train Epoch: 8 Loss: 47.765835\n",
            "Validation loss: 148.3269, Accuracy: 89%\n",
            "Train Epoch: 9 Loss: 83.322128\n",
            "Validation loss: 201.3270, Accuracy: 86%\n",
            "Train Epoch: 10 Loss: 49.282589\n",
            "Validation loss: 226.5418, Accuracy: 84%\n",
            "################################################\n",
            "Learning rate: 1024\n",
            "The intial loss value: 2.3415231704711914\n",
            "Train Epoch: 1 Loss: 2.341523\n",
            "Validation loss: 310.0306, Accuracy: 88%\n",
            "Train Epoch: 2 Loss: 92.505814\n",
            "Validation loss: 330.6266, Accuracy: 88%\n",
            "Train Epoch: 3 Loss: 137.670776\n",
            "Validation loss: 407.2006, Accuracy: 86%\n",
            "Train Epoch: 4 Loss: 197.005554\n",
            "Validation loss: 309.1905, Accuracy: 88%\n",
            "Train Epoch: 5 Loss: 130.854111\n",
            "Validation loss: 436.1364, Accuracy: 85%\n",
            "Train Epoch: 6 Loss: 99.854515\n",
            "Validation loss: 391.2522, Accuracy: 87%\n",
            "Train Epoch: 7 Loss: 89.844940\n",
            "Validation loss: 270.1703, Accuracy: 89%\n",
            "Train Epoch: 8 Loss: 63.560360\n",
            "Validation loss: 355.4099, Accuracy: 87%\n",
            "Train Epoch: 9 Loss: 96.755959\n",
            "Validation loss: 304.8674, Accuracy: 88%\n",
            "Train Epoch: 10 Loss: 26.973974\n",
            "Validation loss: 307.7720, Accuracy: 88%\n"
          ],
          "name": "stdout"
        }
      ]
    },
    {
      "cell_type": "code",
      "metadata": {
        "id": "V72guxRvEs6E",
        "colab_type": "code",
        "colab": {}
      },
      "source": [
        "transform = transforms.Compose(\n",
        "    [transforms.ToTensor()])\n",
        "train_dataset = torchvision.datasets.MNIST(root='./data', train=True, download=True, transform=transform)\n",
        "validation_dataset  = torchvision.datasets.MNIST(root='./data', train=False, download=True, transform=transform)\n",
        " \n",
        "train_loader = torch.utils.data.DataLoader(dataset=train_dataset, batch_size=100, shuffle=False)\n",
        "validation_loader = torch.utils.data.DataLoader(dataset=validation_dataset, batch_size=10000)"
      ],
      "execution_count": 0,
      "outputs": []
    },
    {
      "cell_type": "code",
      "metadata": {
        "id": "69dnUXZnEyMZ",
        "colab_type": "code",
        "colab": {}
      },
      "source": [
        "# Make learning rate list, the error lists for batchsize 100\n",
        "learning_rates=[2**-10, 2**-9, 2**-8, 2**-7, 2**-6, 2**-5, 2**-4, 2**-3, 2**-2, 2**-1, 1, 2, 2**2, 2**3, 2**4, 2**5, 2**6, 2**7, 2**8, 2**9, 2**10]\n",
        "\n",
        "train_error_100 = torch.zeros(len(learning_rates))\n",
        "validation_error_100 = torch.zeros(len(learning_rates))\n",
        "\n",
        "MODELS=[]"
      ],
      "execution_count": 0,
      "outputs": []
    },
    {
      "cell_type": "code",
      "metadata": {
        "id": "ZBh5puQFEyxi",
        "colab_type": "code",
        "outputId": "bc950b68-76aa-4e5e-fdc5-b17b0dde5c34",
        "colab": {
          "base_uri": "https://localhost:8080/",
          "height": 1000
        }
      },
      "source": [
        "# Define the train model function and train the model\n",
        "def train_model_with_lr (iter, lr_list):    \n",
        "    # iterate through different learning rates \n",
        "    for i, lr in enumerate(lr_list):\n",
        "        print(\"################################################\")\n",
        "        print('Learning rate: {}'.format(lr))\n",
        "        model = linear_regression(28*28, 10).cuda()\n",
        "        optimizer = optim.SGD(model.parameters(), lr = lr)\n",
        "        for epoch in range(iter):  \n",
        "            # run the main training loop\n",
        "            loss_100 = 0          \n",
        "            for batch_i, (data, target) in enumerate(train_loader):\n",
        "                data, target = Variable(data).cuda(), Variable(target).cuda()\n",
        "                # resize data from (batch_size, 1, 28, 28) to (batch_size, 28*28)\n",
        "                data = data.view(-1, 28*28)\n",
        "                optimizer.zero_grad()\n",
        "                net_out = model(data).cuda()\n",
        "                loss_100 = criterion(net_out, target)\n",
        "                if batch_i == 0 and epoch == 0:\n",
        "                    print('The intial loss value:',loss_100.item()) \n",
        "                loss_100.backward()\n",
        "                optimizer.step()\n",
        "                if batch_i % 600 == 0:\n",
        "                    print('Train Epoch: {} Loss: {:.6f}'.format(epoch+1, loss_100.item()))\n",
        "            # run a test loop\n",
        "            model.eval()\n",
        "            with torch.no_grad():\n",
        "                test_loss_100 = 0\n",
        "                correct = 0            \n",
        "                for data, target in validation_loader:\n",
        "                    data, target = Variable(data).cuda(), Variable(target).cuda()\n",
        "                    data = data.view(-1, 28 * 28)\n",
        "                    net_out = model(data).cuda()\n",
        "                    # sum up batch loss\n",
        "                    test_loss_100 += criterion(net_out, target)#.item()\n",
        "                    pred = net_out.data.max(1)[1]  # get the index of the max log-probability\n",
        "                    correct += pred.eq(target.data).sum()\n",
        "                print('Test Average loss: {:.4f}, Accuracy: {:.0f}%'.format(test_loss_100, 100. * correct / len(validation_loader.dataset)))\n",
        "        train_error_100[i] = loss_100.item()\n",
        "        validation_error_100[i] = test_loss_100.item()\n",
        "        MODELS.append(model)      \n",
        "\n",
        "train_model_with_lr(10, learning_rates)"
      ],
      "execution_count": 0,
      "outputs": [
        {
          "output_type": "stream",
          "text": [
            "################################################\n",
            "Learning rate: 0.0009765625\n",
            "The intial loss value: 2.3217759132385254\n",
            "Train Epoch: 1 Loss: 2.321776\n",
            "Test Average loss: 1.7938, Accuracy: 70%\n",
            "Train Epoch: 2 Loss: 1.779359\n",
            "Test Average loss: 1.4621, Accuracy: 77%\n",
            "Train Epoch: 3 Loss: 1.444581\n",
            "Test Average loss: 1.2442, Accuracy: 80%\n",
            "Train Epoch: 4 Loss: 1.227359\n",
            "Test Average loss: 1.0953, Accuracy: 82%\n",
            "Train Epoch: 5 Loss: 1.079805\n",
            "Test Average loss: 0.9886, Accuracy: 83%\n",
            "Train Epoch: 6 Loss: 0.974501\n",
            "Test Average loss: 0.9089, Accuracy: 84%\n",
            "Train Epoch: 7 Loss: 0.895979\n",
            "Test Average loss: 0.8471, Accuracy: 84%\n",
            "Train Epoch: 8 Loss: 0.835258\n",
            "Test Average loss: 0.7979, Accuracy: 85%\n",
            "Train Epoch: 9 Loss: 0.786885\n",
            "Test Average loss: 0.7576, Accuracy: 85%\n",
            "Train Epoch: 10 Loss: 0.747398\n",
            "Test Average loss: 0.7240, Accuracy: 85%\n",
            "################################################\n",
            "Learning rate: 0.001953125\n",
            "The intial loss value: 2.3453145027160645\n",
            "Train Epoch: 1 Loss: 2.345315\n",
            "Test Average loss: 1.4711, Accuracy: 78%\n",
            "Train Epoch: 2 Loss: 1.455729\n",
            "Test Average loss: 1.1001, Accuracy: 82%\n",
            "Train Epoch: 3 Loss: 1.082873\n",
            "Test Average loss: 0.9123, Accuracy: 84%\n",
            "Train Epoch: 4 Loss: 0.896134\n",
            "Test Average loss: 0.8005, Accuracy: 84%\n",
            "Train Epoch: 5 Loss: 0.785606\n",
            "Test Average loss: 0.7263, Accuracy: 85%\n",
            "Train Epoch: 6 Loss: 0.712416\n",
            "Test Average loss: 0.6731, Accuracy: 86%\n",
            "Train Epoch: 7 Loss: 0.660119\n",
            "Test Average loss: 0.6329, Accuracy: 86%\n",
            "Train Epoch: 8 Loss: 0.620670\n",
            "Test Average loss: 0.6013, Accuracy: 87%\n",
            "Train Epoch: 9 Loss: 0.589690\n",
            "Test Average loss: 0.5758, Accuracy: 87%\n",
            "Train Epoch: 10 Loss: 0.564596\n",
            "Test Average loss: 0.5546, Accuracy: 87%\n",
            "################################################\n",
            "Learning rate: 0.00390625\n",
            "The intial loss value: 2.32804274559021\n",
            "Train Epoch: 1 Loss: 2.328043\n",
            "Test Average loss: 1.1015, Accuracy: 81%\n",
            "Train Epoch: 2 Loss: 1.079612\n",
            "Test Average loss: 0.8027, Accuracy: 84%\n",
            "Train Epoch: 3 Loss: 0.783343\n",
            "Test Average loss: 0.6749, Accuracy: 86%\n",
            "Train Epoch: 4 Loss: 0.658015\n",
            "Test Average loss: 0.6028, Accuracy: 87%\n",
            "Train Epoch: 5 Loss: 0.587725\n",
            "Test Average loss: 0.5558, Accuracy: 87%\n",
            "Train Epoch: 6 Loss: 0.541924\n",
            "Test Average loss: 0.5223, Accuracy: 88%\n",
            "Train Epoch: 7 Loss: 0.509215\n",
            "Test Average loss: 0.4971, Accuracy: 88%\n",
            "Train Epoch: 8 Loss: 0.484382\n",
            "Test Average loss: 0.4773, Accuracy: 88%\n",
            "Train Epoch: 9 Loss: 0.464693\n",
            "Test Average loss: 0.4612, Accuracy: 89%\n",
            "Train Epoch: 10 Loss: 0.448573\n",
            "Test Average loss: 0.4478, Accuracy: 89%\n",
            "################################################\n",
            "Learning rate: 0.0078125\n",
            "The intial loss value: 2.3192360401153564\n",
            "Train Epoch: 1 Loss: 2.319236\n",
            "Test Average loss: 0.7997, Accuracy: 84%\n",
            "Train Epoch: 2 Loss: 0.782009\n",
            "Test Average loss: 0.6017, Accuracy: 87%\n",
            "Train Epoch: 3 Loss: 0.588284\n",
            "Test Average loss: 0.5218, Accuracy: 88%\n",
            "Train Epoch: 4 Loss: 0.509558\n",
            "Test Average loss: 0.4770, Accuracy: 88%\n",
            "Train Epoch: 5 Loss: 0.464640\n",
            "Test Average loss: 0.4478, Accuracy: 89%\n",
            "Train Epoch: 6 Loss: 0.434652\n",
            "Test Average loss: 0.4268, Accuracy: 89%\n",
            "Train Epoch: 7 Loss: 0.412755\n",
            "Test Average loss: 0.4109, Accuracy: 89%\n",
            "Train Epoch: 8 Loss: 0.395818\n",
            "Test Average loss: 0.3983, Accuracy: 90%\n",
            "Train Epoch: 9 Loss: 0.382183\n",
            "Test Average loss: 0.3881, Accuracy: 90%\n",
            "Train Epoch: 10 Loss: 0.370875\n",
            "Test Average loss: 0.3795, Accuracy: 90%\n",
            "################################################\n",
            "Learning rate: 0.015625\n",
            "The intial loss value: 2.288759231567383\n",
            "Train Epoch: 1 Loss: 2.288759\n",
            "Test Average loss: 0.5990, Accuracy: 87%\n",
            "Train Epoch: 2 Loss: 0.584612\n",
            "Test Average loss: 0.4755, Accuracy: 88%\n",
            "Train Epoch: 3 Loss: 0.465456\n",
            "Test Average loss: 0.4256, Accuracy: 89%\n",
            "Train Epoch: 4 Loss: 0.415259\n",
            "Test Average loss: 0.3973, Accuracy: 90%\n",
            "Train Epoch: 5 Loss: 0.385476\n",
            "Test Average loss: 0.3787, Accuracy: 90%\n",
            "Train Epoch: 6 Loss: 0.364989\n",
            "Test Average loss: 0.3652, Accuracy: 90%\n",
            "Train Epoch: 7 Loss: 0.349674\n",
            "Test Average loss: 0.3549, Accuracy: 90%\n",
            "Train Epoch: 8 Loss: 0.337594\n",
            "Test Average loss: 0.3467, Accuracy: 91%\n",
            "Train Epoch: 9 Loss: 0.327700\n",
            "Test Average loss: 0.3400, Accuracy: 91%\n",
            "Train Epoch: 10 Loss: 0.319370\n",
            "Test Average loss: 0.3344, Accuracy: 91%\n",
            "################################################\n",
            "Learning rate: 0.03125\n",
            "The intial loss value: 2.3108768463134766\n",
            "Train Epoch: 1 Loss: 2.310877\n",
            "Test Average loss: 0.4764, Accuracy: 88%\n",
            "Train Epoch: 2 Loss: 0.466808\n",
            "Test Average loss: 0.3982, Accuracy: 90%\n",
            "Train Epoch: 3 Loss: 0.384932\n",
            "Test Average loss: 0.3659, Accuracy: 90%\n",
            "Train Epoch: 4 Loss: 0.348178\n",
            "Test Average loss: 0.3473, Accuracy: 91%\n",
            "Train Epoch: 5 Loss: 0.325723\n",
            "Test Average loss: 0.3349, Accuracy: 91%\n",
            "Train Epoch: 6 Loss: 0.309975\n",
            "Test Average loss: 0.3260, Accuracy: 91%\n",
            "Train Epoch: 7 Loss: 0.298024\n",
            "Test Average loss: 0.3192, Accuracy: 91%\n",
            "Train Epoch: 8 Loss: 0.288489\n",
            "Test Average loss: 0.3137, Accuracy: 91%\n",
            "Train Epoch: 9 Loss: 0.280615\n",
            "Test Average loss: 0.3093, Accuracy: 92%\n",
            "Train Epoch: 10 Loss: 0.273950\n",
            "Test Average loss: 0.3056, Accuracy: 92%\n",
            "################################################\n",
            "Learning rate: 0.0625\n",
            "The intial loss value: 2.281707286834717\n",
            "Train Epoch: 1 Loss: 2.281707\n",
            "Test Average loss: 0.3985, Accuracy: 89%\n",
            "Train Epoch: 2 Loss: 0.382563\n",
            "Test Average loss: 0.3478, Accuracy: 91%\n",
            "Train Epoch: 3 Loss: 0.324043\n",
            "Test Average loss: 0.3266, Accuracy: 91%\n",
            "Train Epoch: 4 Loss: 0.296681\n",
            "Test Average loss: 0.3143, Accuracy: 91%\n",
            "Train Epoch: 5 Loss: 0.279431\n",
            "Test Average loss: 0.3062, Accuracy: 92%\n",
            "Train Epoch: 6 Loss: 0.267087\n",
            "Test Average loss: 0.3004, Accuracy: 92%\n",
            "Train Epoch: 7 Loss: 0.257636\n",
            "Test Average loss: 0.2960, Accuracy: 92%\n",
            "Train Epoch: 8 Loss: 0.250094\n",
            "Test Average loss: 0.2925, Accuracy: 92%\n",
            "Train Epoch: 9 Loss: 0.243903\n",
            "Test Average loss: 0.2897, Accuracy: 92%\n",
            "Train Epoch: 10 Loss: 0.238713\n",
            "Test Average loss: 0.2874, Accuracy: 92%\n",
            "################################################\n",
            "Learning rate: 0.125\n",
            "The intial loss value: 2.3680834770202637\n",
            "Train Epoch: 1 Loss: 2.368083\n",
            "Test Average loss: 0.3512, Accuracy: 90%\n",
            "Train Epoch: 2 Loss: 0.323250\n",
            "Test Average loss: 0.3172, Accuracy: 91%\n",
            "Train Epoch: 3 Loss: 0.278786\n",
            "Test Average loss: 0.3032, Accuracy: 91%\n",
            "Train Epoch: 4 Loss: 0.256932\n",
            "Test Average loss: 0.2953, Accuracy: 92%\n",
            "Train Epoch: 5 Loss: 0.243125\n",
            "Test Average loss: 0.2902, Accuracy: 92%\n",
            "Train Epoch: 6 Loss: 0.233460\n",
            "Test Average loss: 0.2866, Accuracy: 92%\n",
            "Train Epoch: 7 Loss: 0.226287\n",
            "Test Average loss: 0.2840, Accuracy: 92%\n",
            "Train Epoch: 8 Loss: 0.220748\n",
            "Test Average loss: 0.2819, Accuracy: 92%\n",
            "Train Epoch: 9 Loss: 0.216344\n",
            "Test Average loss: 0.2803, Accuracy: 92%\n",
            "Train Epoch: 10 Loss: 0.212763\n",
            "Test Average loss: 0.2789, Accuracy: 92%\n",
            "################################################\n",
            "Learning rate: 0.25\n",
            "The intial loss value: 2.323326587677002\n",
            "Train Epoch: 1 Loss: 2.323327\n",
            "Test Average loss: 0.3272, Accuracy: 91%\n",
            "Train Epoch: 2 Loss: 0.277075\n",
            "Test Average loss: 0.3044, Accuracy: 91%\n",
            "Train Epoch: 3 Loss: 0.243547\n",
            "Test Average loss: 0.2956, Accuracy: 91%\n",
            "Train Epoch: 4 Loss: 0.227489\n",
            "Test Average loss: 0.2908, Accuracy: 92%\n",
            "Train Epoch: 5 Loss: 0.217909\n",
            "Test Average loss: 0.2878, Accuracy: 92%\n",
            "Train Epoch: 6 Loss: 0.211572\n",
            "Test Average loss: 0.2856, Accuracy: 92%\n",
            "Train Epoch: 7 Loss: 0.207094\n",
            "Test Average loss: 0.2841, Accuracy: 92%\n",
            "Train Epoch: 8 Loss: 0.203773\n",
            "Test Average loss: 0.2828, Accuracy: 92%\n",
            "Train Epoch: 9 Loss: 0.201213\n",
            "Test Average loss: 0.2818, Accuracy: 92%\n",
            "Train Epoch: 10 Loss: 0.199176\n",
            "Test Average loss: 0.2810, Accuracy: 92%\n",
            "################################################\n",
            "Learning rate: 0.5\n",
            "The intial loss value: 2.280627965927124\n",
            "Train Epoch: 1 Loss: 2.280628\n",
            "Test Average loss: 0.3246, Accuracy: 90%\n",
            "Train Epoch: 2 Loss: 0.243286\n",
            "Test Average loss: 0.3089, Accuracy: 91%\n",
            "Train Epoch: 3 Loss: 0.218805\n",
            "Test Average loss: 0.3030, Accuracy: 91%\n",
            "Train Epoch: 4 Loss: 0.209084\n",
            "Test Average loss: 0.2998, Accuracy: 91%\n",
            "Train Epoch: 5 Loss: 0.204051\n",
            "Test Average loss: 0.2977, Accuracy: 91%\n",
            "Train Epoch: 6 Loss: 0.200983\n",
            "Test Average loss: 0.2962, Accuracy: 91%\n",
            "Train Epoch: 7 Loss: 0.198883\n",
            "Test Average loss: 0.2950, Accuracy: 92%\n",
            "Train Epoch: 8 Loss: 0.197320\n",
            "Test Average loss: 0.2941, Accuracy: 91%\n",
            "Train Epoch: 9 Loss: 0.196081\n",
            "Test Average loss: 0.2934, Accuracy: 91%\n",
            "Train Epoch: 10 Loss: 0.195052\n",
            "Test Average loss: 0.2928, Accuracy: 92%\n",
            "################################################\n",
            "Learning rate: 1\n",
            "The intial loss value: 2.37450909614563\n",
            "Train Epoch: 1 Loss: 2.374509\n",
            "Test Average loss: 0.3462, Accuracy: 90%\n",
            "Train Epoch: 2 Loss: 0.219577\n",
            "Test Average loss: 0.3330, Accuracy: 90%\n",
            "Train Epoch: 3 Loss: 0.208641\n",
            "Test Average loss: 0.3280, Accuracy: 91%\n",
            "Train Epoch: 4 Loss: 0.204508\n",
            "Test Average loss: 0.3251, Accuracy: 91%\n",
            "Train Epoch: 5 Loss: 0.201992\n",
            "Test Average loss: 0.3230, Accuracy: 91%\n",
            "Train Epoch: 6 Loss: 0.200167\n",
            "Test Average loss: 0.3216, Accuracy: 91%\n",
            "Train Epoch: 7 Loss: 0.198710\n",
            "Test Average loss: 0.3205, Accuracy: 91%\n",
            "Train Epoch: 8 Loss: 0.197469\n",
            "Test Average loss: 0.3197, Accuracy: 91%\n",
            "Train Epoch: 9 Loss: 0.196365\n",
            "Test Average loss: 0.3191, Accuracy: 91%\n",
            "Train Epoch: 10 Loss: 0.195352\n",
            "Test Average loss: 0.3186, Accuracy: 91%\n",
            "################################################\n",
            "Learning rate: 2\n",
            "The intial loss value: 2.2966322898864746\n",
            "Train Epoch: 1 Loss: 2.296632\n",
            "Test Average loss: 0.4809, Accuracy: 89%\n",
            "Train Epoch: 2 Loss: 0.251355\n",
            "Test Average loss: 0.4514, Accuracy: 89%\n",
            "Train Epoch: 3 Loss: 0.255342\n",
            "Test Average loss: 0.4416, Accuracy: 89%\n",
            "Train Epoch: 4 Loss: 0.242723\n",
            "Test Average loss: 0.4337, Accuracy: 90%\n",
            "Train Epoch: 5 Loss: 0.233020\n",
            "Test Average loss: 0.4318, Accuracy: 90%\n",
            "Train Epoch: 6 Loss: 0.228210\n",
            "Test Average loss: 0.4311, Accuracy: 90%\n",
            "Train Epoch: 7 Loss: 0.224754\n",
            "Test Average loss: 0.4300, Accuracy: 90%\n",
            "Train Epoch: 8 Loss: 0.221285\n",
            "Test Average loss: 0.4294, Accuracy: 90%\n",
            "Train Epoch: 9 Loss: 0.217725\n",
            "Test Average loss: 0.4286, Accuracy: 90%\n",
            "Train Epoch: 10 Loss: 0.214646\n",
            "Test Average loss: 0.4280, Accuracy: 90%\n",
            "################################################\n",
            "Learning rate: 4\n",
            "The intial loss value: 2.3253660202026367\n",
            "Train Epoch: 1 Loss: 2.325366\n",
            "Test Average loss: 0.9437, Accuracy: 87%\n",
            "Train Epoch: 2 Loss: 0.417676\n",
            "Test Average loss: 0.9435, Accuracy: 87%\n",
            "Train Epoch: 3 Loss: 0.434776\n",
            "Test Average loss: 0.7538, Accuracy: 89%\n",
            "Train Epoch: 4 Loss: 0.422961\n",
            "Test Average loss: 0.7882, Accuracy: 89%\n",
            "Train Epoch: 5 Loss: 0.386332\n",
            "Test Average loss: 0.7921, Accuracy: 89%\n",
            "Train Epoch: 6 Loss: 0.376993\n",
            "Test Average loss: 0.7338, Accuracy: 89%\n",
            "Train Epoch: 7 Loss: 0.299468\n",
            "Test Average loss: 0.8156, Accuracy: 89%\n",
            "Train Epoch: 8 Loss: 0.396320\n",
            "Test Average loss: 0.8142, Accuracy: 89%\n",
            "Train Epoch: 9 Loss: 0.421781\n",
            "Test Average loss: 0.7892, Accuracy: 89%\n",
            "Train Epoch: 10 Loss: 0.364353\n",
            "Test Average loss: 0.7234, Accuracy: 90%\n",
            "################################################\n",
            "Learning rate: 8\n",
            "The intial loss value: 2.31002140045166\n",
            "Train Epoch: 1 Loss: 2.310021\n",
            "Test Average loss: 1.7419, Accuracy: 87%\n",
            "Train Epoch: 2 Loss: 0.952224\n",
            "Test Average loss: 1.5015, Accuracy: 89%\n",
            "Train Epoch: 3 Loss: 0.744655\n",
            "Test Average loss: 1.3702, Accuracy: 90%\n",
            "Train Epoch: 4 Loss: 0.876322\n",
            "Test Average loss: 1.6870, Accuracy: 88%\n",
            "Train Epoch: 5 Loss: 0.890741\n",
            "Test Average loss: 1.5535, Accuracy: 89%\n",
            "Train Epoch: 6 Loss: 0.802622\n",
            "Test Average loss: 1.7371, Accuracy: 89%\n",
            "Train Epoch: 7 Loss: 0.985099\n",
            "Test Average loss: 1.7451, Accuracy: 88%\n",
            "Train Epoch: 8 Loss: 0.789497\n",
            "Test Average loss: 1.7065, Accuracy: 88%\n",
            "Train Epoch: 9 Loss: 0.897290\n",
            "Test Average loss: 1.6069, Accuracy: 88%\n",
            "Train Epoch: 10 Loss: 0.625532\n",
            "Test Average loss: 1.6938, Accuracy: 88%\n",
            "################################################\n",
            "Learning rate: 16\n",
            "The intial loss value: 2.3113465309143066\n",
            "Train Epoch: 1 Loss: 2.311347\n",
            "Test Average loss: 3.5492, Accuracy: 87%\n",
            "Train Epoch: 2 Loss: 1.604061\n",
            "Test Average loss: 3.3428, Accuracy: 88%\n",
            "Train Epoch: 3 Loss: 1.418837\n",
            "Test Average loss: 3.5364, Accuracy: 89%\n",
            "Train Epoch: 4 Loss: 2.193016\n",
            "Test Average loss: 3.3902, Accuracy: 87%\n",
            "Train Epoch: 5 Loss: 1.911800\n",
            "Test Average loss: 3.5232, Accuracy: 88%\n",
            "Train Epoch: 6 Loss: 1.815577\n",
            "Test Average loss: 2.9243, Accuracy: 89%\n",
            "Train Epoch: 7 Loss: 1.801156\n",
            "Test Average loss: 3.5807, Accuracy: 88%\n",
            "Train Epoch: 8 Loss: 2.157244\n",
            "Test Average loss: 3.2907, Accuracy: 89%\n",
            "Train Epoch: 9 Loss: 1.052475\n",
            "Test Average loss: 2.9869, Accuracy: 89%\n",
            "Train Epoch: 10 Loss: 2.172406\n",
            "Test Average loss: 3.2039, Accuracy: 89%\n",
            "################################################\n",
            "Learning rate: 32\n",
            "The intial loss value: 2.2939937114715576\n",
            "Train Epoch: 1 Loss: 2.293994\n",
            "Test Average loss: 8.5994, Accuracy: 85%\n",
            "Train Epoch: 2 Loss: 4.356888\n",
            "Test Average loss: 7.3722, Accuracy: 88%\n",
            "Train Epoch: 3 Loss: 3.981664\n",
            "Test Average loss: 6.7220, Accuracy: 88%\n",
            "Train Epoch: 4 Loss: 4.597685\n",
            "Test Average loss: 6.4926, Accuracy: 88%\n",
            "Train Epoch: 5 Loss: 3.961501\n",
            "Test Average loss: 6.0359, Accuracy: 89%\n",
            "Train Epoch: 6 Loss: 4.166844\n",
            "Test Average loss: 8.7914, Accuracy: 85%\n",
            "Train Epoch: 7 Loss: 4.737420\n",
            "Test Average loss: 6.5895, Accuracy: 89%\n",
            "Train Epoch: 8 Loss: 3.027364\n",
            "Test Average loss: 6.6568, Accuracy: 88%\n",
            "Train Epoch: 9 Loss: 3.351622\n",
            "Test Average loss: 6.4780, Accuracy: 89%\n",
            "Train Epoch: 10 Loss: 3.604540\n",
            "Test Average loss: 7.0880, Accuracy: 88%\n",
            "################################################\n",
            "Learning rate: 64\n",
            "The intial loss value: 2.3060390949249268\n",
            "Train Epoch: 1 Loss: 2.306039\n",
            "Test Average loss: 18.9306, Accuracy: 86%\n",
            "Train Epoch: 2 Loss: 9.113626\n",
            "Test Average loss: 13.8972, Accuracy: 88%\n",
            "Train Epoch: 3 Loss: 9.728748\n",
            "Test Average loss: 14.3884, Accuracy: 88%\n",
            "Train Epoch: 4 Loss: 6.044184\n",
            "Test Average loss: 11.7567, Accuracy: 89%\n",
            "Train Epoch: 5 Loss: 7.318095\n",
            "Test Average loss: 12.1093, Accuracy: 89%\n",
            "Train Epoch: 6 Loss: 8.375370\n",
            "Test Average loss: 13.4057, Accuracy: 88%\n",
            "Train Epoch: 7 Loss: 7.984456\n",
            "Test Average loss: 14.5107, Accuracy: 88%\n",
            "Train Epoch: 8 Loss: 8.184731\n",
            "Test Average loss: 15.4730, Accuracy: 88%\n",
            "Train Epoch: 9 Loss: 6.229599\n",
            "Test Average loss: 12.6752, Accuracy: 89%\n",
            "Train Epoch: 10 Loss: 6.421505\n",
            "Test Average loss: 13.6150, Accuracy: 88%\n",
            "################################################\n",
            "Learning rate: 128\n",
            "The intial loss value: 2.3134748935699463\n",
            "Train Epoch: 1 Loss: 2.313475\n",
            "Test Average loss: 34.2598, Accuracy: 86%\n",
            "Train Epoch: 2 Loss: 15.298226\n",
            "Test Average loss: 23.1411, Accuracy: 89%\n",
            "Train Epoch: 3 Loss: 12.825159\n",
            "Test Average loss: 33.5265, Accuracy: 87%\n",
            "Train Epoch: 4 Loss: 14.877686\n",
            "Test Average loss: 21.7952, Accuracy: 90%\n",
            "Train Epoch: 5 Loss: 10.839599\n",
            "Test Average loss: 23.7057, Accuracy: 89%\n",
            "Train Epoch: 6 Loss: 12.561999\n",
            "Test Average loss: 22.6838, Accuracy: 89%\n",
            "Train Epoch: 7 Loss: 13.396611\n",
            "Test Average loss: 23.7350, Accuracy: 89%\n",
            "Train Epoch: 8 Loss: 20.249990\n",
            "Test Average loss: 26.7702, Accuracy: 89%\n",
            "Train Epoch: 9 Loss: 11.200467\n",
            "Test Average loss: 24.8515, Accuracy: 89%\n",
            "Train Epoch: 10 Loss: 14.419860\n",
            "Test Average loss: 26.0860, Accuracy: 88%\n",
            "################################################\n",
            "Learning rate: 256\n",
            "The intial loss value: 2.3473751544952393\n",
            "Train Epoch: 1 Loss: 2.347375\n",
            "Test Average loss: 87.7013, Accuracy: 85%\n",
            "Train Epoch: 2 Loss: 39.556976\n",
            "Test Average loss: 82.7676, Accuracy: 85%\n",
            "Train Epoch: 3 Loss: 38.688202\n",
            "Test Average loss: 54.1045, Accuracy: 88%\n",
            "Train Epoch: 4 Loss: 26.611555\n",
            "Test Average loss: 51.5423, Accuracy: 89%\n",
            "Train Epoch: 5 Loss: 28.953588\n",
            "Test Average loss: 79.1144, Accuracy: 85%\n",
            "Train Epoch: 6 Loss: 39.176159\n",
            "Test Average loss: 51.0667, Accuracy: 89%\n",
            "Train Epoch: 7 Loss: 35.823715\n",
            "Test Average loss: 57.7329, Accuracy: 87%\n",
            "Train Epoch: 8 Loss: 27.140043\n",
            "Test Average loss: 55.7623, Accuracy: 89%\n",
            "Train Epoch: 9 Loss: 27.269203\n",
            "Test Average loss: 42.1955, Accuracy: 90%\n",
            "Train Epoch: 10 Loss: 23.296265\n",
            "Test Average loss: 50.7343, Accuracy: 89%\n",
            "################################################\n",
            "Learning rate: 512\n",
            "The intial loss value: 2.303351402282715\n",
            "Train Epoch: 1 Loss: 2.303351\n",
            "Test Average loss: 130.4344, Accuracy: 85%\n",
            "Train Epoch: 2 Loss: 62.329838\n",
            "Test Average loss: 112.0848, Accuracy: 88%\n",
            "Train Epoch: 3 Loss: 70.686829\n",
            "Test Average loss: 110.9672, Accuracy: 88%\n",
            "Train Epoch: 4 Loss: 57.914555\n",
            "Test Average loss: 109.5366, Accuracy: 88%\n",
            "Train Epoch: 5 Loss: 42.311157\n",
            "Test Average loss: 109.9329, Accuracy: 88%\n",
            "Train Epoch: 6 Loss: 62.087746\n",
            "Test Average loss: 119.8053, Accuracy: 88%\n",
            "Train Epoch: 7 Loss: 59.821407\n",
            "Test Average loss: 105.0928, Accuracy: 88%\n",
            "Train Epoch: 8 Loss: 57.471092\n",
            "Test Average loss: 98.3417, Accuracy: 88%\n",
            "Train Epoch: 9 Loss: 42.224144\n",
            "Test Average loss: 100.5686, Accuracy: 89%\n",
            "Train Epoch: 10 Loss: 64.804131\n",
            "Test Average loss: 93.0196, Accuracy: 90%\n",
            "################################################\n",
            "Learning rate: 1024\n",
            "The intial loss value: 2.3120076656341553\n",
            "Train Epoch: 1 Loss: 2.312008\n",
            "Test Average loss: 225.6763, Accuracy: 88%\n",
            "Train Epoch: 2 Loss: 137.378998\n",
            "Test Average loss: 251.6215, Accuracy: 88%\n",
            "Train Epoch: 3 Loss: 153.314926\n",
            "Test Average loss: 167.9523, Accuracy: 90%\n",
            "Train Epoch: 4 Loss: 93.741356\n",
            "Test Average loss: 193.3217, Accuracy: 89%\n",
            "Train Epoch: 5 Loss: 117.669922\n",
            "Test Average loss: 201.9311, Accuracy: 88%\n",
            "Train Epoch: 6 Loss: 113.417824\n",
            "Test Average loss: 212.2868, Accuracy: 88%\n",
            "Train Epoch: 7 Loss: 107.227440\n",
            "Test Average loss: 245.5026, Accuracy: 88%\n",
            "Train Epoch: 8 Loss: 107.268166\n",
            "Test Average loss: 194.0500, Accuracy: 89%\n",
            "Train Epoch: 9 Loss: 86.606926\n",
            "Test Average loss: 198.1833, Accuracy: 89%\n",
            "Train Epoch: 10 Loss: 80.418205\n",
            "Test Average loss: 201.3418, Accuracy: 89%\n"
          ],
          "name": "stdout"
        }
      ]
    },
    {
      "cell_type": "code",
      "metadata": {
        "id": "roUiZmOsE2Y3",
        "colab_type": "code",
        "colab": {}
      },
      "source": [
        "transform = transforms.Compose(\n",
        "    [transforms.ToTensor()])\n",
        "train_dataset = torchvision.datasets.MNIST(root='./data', train=True, download=True, transform=transform)\n",
        "validation_dataset  = torchvision.datasets.MNIST(root='./data', train=False, download=True, transform=transform)\n",
        " \n",
        "train_loader = torch.utils.data.DataLoader(dataset=train_dataset, batch_size=200, shuffle=False)\n",
        "validation_loader = torch.utils.data.DataLoader(dataset=validation_dataset, batch_size=10000)"
      ],
      "execution_count": 0,
      "outputs": []
    },
    {
      "cell_type": "code",
      "metadata": {
        "id": "rQWzRJAbHSV2",
        "colab_type": "code",
        "colab": {}
      },
      "source": [
        "# # Make learning rate list, the error lists for batchsize 200\n",
        "learning_rates=[2**-10, 2**-9, 2**-8, 2**-7, 2**-6, 2**-5, 2**-4, 2**-3, 2**-2, 2**-1, 1, 2, 2**2, 2**3, 2**4, 2**5, 2**6, 2**7, 2**8, 2**9, 2**10]\n",
        "\n",
        "train_error_200 = torch.zeros(len(learning_rates))\n",
        "validation_error_200 = torch.zeros(len(learning_rates))\n",
        "\n",
        "MODELS=[]"
      ],
      "execution_count": 0,
      "outputs": []
    },
    {
      "cell_type": "code",
      "metadata": {
        "id": "kaKfYN6iHRbx",
        "colab_type": "code",
        "outputId": "1ffa8f43-dcf6-436c-d46a-74ca921cb5b6",
        "colab": {
          "base_uri": "https://localhost:8080/",
          "height": 1000
        }
      },
      "source": [
        "# Define the train model function and train the model\n",
        "\n",
        "def train_model_with_lr (iter, lr_list):    \n",
        "    # iterate through different learning rates \n",
        "    for i, lr in enumerate(lr_list):\n",
        "        print(\"################################################\")\n",
        "        print('Learning rate: {}'.format(lr))\n",
        "        model = linear_regression(28*28, 10).cuda()\n",
        "        optimizer = optim.SGD(model.parameters(), lr = lr)\n",
        "        for epoch in range(iter):  \n",
        "            # run the main training loop\n",
        "            loss_200 = 0          \n",
        "            for batch_i, (data, target) in enumerate(train_loader):\n",
        "                data, target = Variable(data).cuda(), Variable(target).cuda()\n",
        "                # resize data from (batch_size, 1, 28, 28) to (batch_size, 28*28)\n",
        "                data = data.view(-1, 28*28)\n",
        "                optimizer.zero_grad()\n",
        "                net_out = model(data).cuda()\n",
        "                loss_200 = criterion(net_out, target)\n",
        "                if batch_i == 0 and epoch == 0:\n",
        "                    print('The intial loss value:',loss_200.item()) \n",
        "                loss_200.backward()\n",
        "                optimizer.step()\n",
        "                if batch_i % 300 == 0:\n",
        "                    print('Train Epoch: {} Loss: {:.6f}'.format(epoch+1, loss_200.item()))\n",
        "            # run a test loop\n",
        "            model.eval()\n",
        "            with torch.no_grad():\n",
        "                test_loss_200 = 0\n",
        "                correct = 0            \n",
        "                for data, target in validation_loader:\n",
        "                    data, target = Variable(data).cuda(), Variable(target).cuda()\n",
        "                    data = data.view(-1, 28 * 28)\n",
        "                    net_out = model(data).cuda()\n",
        "                    # sum up batch loss\n",
        "                    test_loss_200 += criterion(net_out, target)#.item()\n",
        "                    pred = net_out.data.max(1)[1]  # get the index of the max log-probability\n",
        "                    correct += pred.eq(target.data).sum()\n",
        "                print('Test loss: {:.4f}, Accuracy: {:.0f}%'.format(test_loss_200, 100. * correct / len(validation_loader.dataset)))\n",
        "        train_error_200[i] = loss_200.item()\n",
        "        validation_error_200[i] = test_loss_200.item()\n",
        "        MODELS.append(model)      \n",
        "\n",
        "train_model_with_lr(10, learning_rates)"
      ],
      "execution_count": 0,
      "outputs": [
        {
          "output_type": "stream",
          "text": [
            "################################################\n",
            "Learning rate: 0.0009765625\n",
            "The intial loss value: 2.3237876892089844\n",
            "Train Epoch: 1 Loss: 2.323788\n",
            "Test loss: 2.0214, Accuracy: 53%\n",
            "Train Epoch: 2 Loss: 2.010339\n",
            "Test loss: 1.7910, Accuracy: 69%\n",
            "Train Epoch: 3 Loss: 1.778818\n",
            "Test loss: 1.6076, Accuracy: 75%\n",
            "Train Epoch: 4 Loss: 1.597589\n",
            "Test loss: 1.4602, Accuracy: 77%\n",
            "Train Epoch: 5 Loss: 1.453676\n",
            "Test loss: 1.3410, Accuracy: 79%\n",
            "Train Epoch: 6 Loss: 1.338131\n",
            "Test loss: 1.2434, Accuracy: 80%\n",
            "Train Epoch: 7 Loss: 1.244181\n",
            "Test loss: 1.1628, Accuracy: 81%\n",
            "Train Epoch: 8 Loss: 1.166748\n",
            "Test loss: 1.0952, Accuracy: 82%\n",
            "Train Epoch: 9 Loss: 1.102060\n",
            "Test loss: 1.0380, Accuracy: 82%\n",
            "Train Epoch: 10 Loss: 1.047328\n",
            "Test loss: 0.9890, Accuracy: 83%\n",
            "################################################\n",
            "Learning rate: 0.001953125\n",
            "The intial loss value: 2.3084604740142822\n",
            "Train Epoch: 1 Loss: 2.308460\n",
            "Test loss: 1.7965, Accuracy: 68%\n",
            "Train Epoch: 2 Loss: 1.800764\n",
            "Test loss: 1.4673, Accuracy: 75%\n",
            "Train Epoch: 3 Loss: 1.474645\n",
            "Test loss: 1.2501, Accuracy: 79%\n",
            "Train Epoch: 4 Loss: 1.261648\n",
            "Test loss: 1.1010, Accuracy: 81%\n",
            "Train Epoch: 5 Loss: 1.116348\n",
            "Test loss: 0.9938, Accuracy: 82%\n",
            "Train Epoch: 6 Loss: 1.012250\n",
            "Test loss: 0.9136, Accuracy: 83%\n",
            "Train Epoch: 7 Loss: 0.934374\n",
            "Test loss: 0.8513, Accuracy: 84%\n",
            "Train Epoch: 8 Loss: 0.873997\n",
            "Test loss: 0.8016, Accuracy: 84%\n",
            "Train Epoch: 9 Loss: 0.825802\n",
            "Test loss: 0.7610, Accuracy: 85%\n",
            "Train Epoch: 10 Loss: 0.786397\n",
            "Test loss: 0.7272, Accuracy: 85%\n",
            "################################################\n",
            "Learning rate: 0.00390625\n",
            "The intial loss value: 2.310497999191284\n",
            "Train Epoch: 1 Loss: 2.310498\n",
            "Test loss: 1.4599, Accuracy: 77%\n",
            "Train Epoch: 2 Loss: 1.463249\n",
            "Test loss: 1.0940, Accuracy: 82%\n",
            "Train Epoch: 3 Loss: 1.108685\n",
            "Test loss: 0.9084, Accuracy: 84%\n",
            "Train Epoch: 4 Loss: 0.930247\n",
            "Test loss: 0.7978, Accuracy: 85%\n",
            "Train Epoch: 5 Loss: 0.823851\n",
            "Test loss: 0.7242, Accuracy: 86%\n",
            "Train Epoch: 6 Loss: 0.752889\n",
            "Test loss: 0.6714, Accuracy: 86%\n",
            "Train Epoch: 7 Loss: 0.701832\n",
            "Test loss: 0.6314, Accuracy: 87%\n",
            "Train Epoch: 8 Loss: 0.663055\n",
            "Test loss: 0.6001, Accuracy: 87%\n",
            "Train Epoch: 9 Loss: 0.632398\n",
            "Test loss: 0.5746, Accuracy: 87%\n",
            "Train Epoch: 10 Loss: 0.607403\n",
            "Test loss: 0.5536, Accuracy: 88%\n",
            "################################################\n",
            "Learning rate: 0.0078125\n",
            "The intial loss value: 2.3298473358154297\n",
            "Train Epoch: 1 Loss: 2.329847\n",
            "Test loss: 1.0943, Accuracy: 82%\n",
            "Train Epoch: 2 Loss: 1.115576\n",
            "Test loss: 0.7969, Accuracy: 85%\n",
            "Train Epoch: 3 Loss: 0.827374\n",
            "Test loss: 0.6702, Accuracy: 86%\n",
            "Train Epoch: 4 Loss: 0.704038\n",
            "Test loss: 0.5988, Accuracy: 87%\n",
            "Train Epoch: 5 Loss: 0.633986\n",
            "Test loss: 0.5523, Accuracy: 88%\n",
            "Train Epoch: 6 Loss: 0.587780\n",
            "Test loss: 0.5192, Accuracy: 88%\n",
            "Train Epoch: 7 Loss: 0.554416\n",
            "Test loss: 0.4943, Accuracy: 88%\n",
            "Train Epoch: 8 Loss: 0.528847\n",
            "Test loss: 0.4746, Accuracy: 88%\n",
            "Train Epoch: 9 Loss: 0.508419\n",
            "Test loss: 0.4587, Accuracy: 89%\n",
            "Train Epoch: 10 Loss: 0.491592\n",
            "Test loss: 0.4455, Accuracy: 89%\n",
            "################################################\n",
            "Learning rate: 0.015625\n",
            "The intial loss value: 2.323204278945923\n",
            "Train Epoch: 1 Loss: 2.323204\n",
            "Test loss: 0.7950, Accuracy: 85%\n",
            "Train Epoch: 2 Loss: 0.818759\n",
            "Test loss: 0.5994, Accuracy: 87%\n",
            "Train Epoch: 3 Loss: 0.629800\n",
            "Test loss: 0.5204, Accuracy: 88%\n",
            "Train Epoch: 4 Loss: 0.551782\n",
            "Test loss: 0.4760, Accuracy: 88%\n",
            "Train Epoch: 5 Loss: 0.506574\n",
            "Test loss: 0.4469, Accuracy: 89%\n",
            "Train Epoch: 6 Loss: 0.476027\n",
            "Test loss: 0.4261, Accuracy: 89%\n",
            "Train Epoch: 7 Loss: 0.453518\n",
            "Test loss: 0.4102, Accuracy: 89%\n",
            "Train Epoch: 8 Loss: 0.435985\n",
            "Test loss: 0.3977, Accuracy: 90%\n",
            "Train Epoch: 9 Loss: 0.421788\n",
            "Test loss: 0.3874, Accuracy: 90%\n",
            "Train Epoch: 10 Loss: 0.409957\n",
            "Test loss: 0.3789, Accuracy: 90%\n",
            "################################################\n",
            "Learning rate: 0.03125\n",
            "The intial loss value: 2.338369131088257\n",
            "Train Epoch: 1 Loss: 2.338369\n",
            "Test loss: 0.5971, Accuracy: 87%\n",
            "Train Epoch: 2 Loss: 0.635016\n",
            "Test loss: 0.4743, Accuracy: 88%\n",
            "Train Epoch: 3 Loss: 0.510553\n",
            "Test loss: 0.4247, Accuracy: 89%\n",
            "Train Epoch: 4 Loss: 0.456946\n",
            "Test loss: 0.3966, Accuracy: 90%\n",
            "Train Epoch: 5 Loss: 0.424906\n",
            "Test loss: 0.3780, Accuracy: 90%\n",
            "Train Epoch: 6 Loss: 0.402789\n",
            "Test loss: 0.3646, Accuracy: 90%\n",
            "Train Epoch: 7 Loss: 0.386211\n",
            "Test loss: 0.3544, Accuracy: 90%\n",
            "Train Epoch: 8 Loss: 0.373105\n",
            "Test loss: 0.3462, Accuracy: 91%\n",
            "Train Epoch: 9 Loss: 0.362352\n",
            "Test loss: 0.3396, Accuracy: 91%\n",
            "Train Epoch: 10 Loss: 0.353289\n",
            "Test loss: 0.3340, Accuracy: 91%\n",
            "################################################\n",
            "Learning rate: 0.0625\n",
            "The intial loss value: 2.298736333847046\n",
            "Train Epoch: 1 Loss: 2.298736\n",
            "Test loss: 0.4755, Accuracy: 88%\n",
            "Train Epoch: 2 Loss: 0.503452\n",
            "Test loss: 0.3978, Accuracy: 89%\n",
            "Train Epoch: 3 Loss: 0.419705\n",
            "Test loss: 0.3657, Accuracy: 90%\n",
            "Train Epoch: 4 Loss: 0.381614\n",
            "Test loss: 0.3472, Accuracy: 91%\n",
            "Train Epoch: 5 Loss: 0.358056\n",
            "Test loss: 0.3349, Accuracy: 91%\n",
            "Train Epoch: 6 Loss: 0.341381\n",
            "Test loss: 0.3260, Accuracy: 91%\n",
            "Train Epoch: 7 Loss: 0.328656\n",
            "Test loss: 0.3191, Accuracy: 91%\n",
            "Train Epoch: 8 Loss: 0.318477\n",
            "Test loss: 0.3137, Accuracy: 91%\n",
            "Train Epoch: 9 Loss: 0.310069\n",
            "Test loss: 0.3093, Accuracy: 92%\n",
            "Train Epoch: 10 Loss: 0.302960\n",
            "Test loss: 0.3056, Accuracy: 92%\n",
            "################################################\n",
            "Learning rate: 0.125\n",
            "The intial loss value: 2.3312487602233887\n",
            "Train Epoch: 1 Loss: 2.331249\n",
            "Test loss: 0.3988, Accuracy: 89%\n",
            "Train Epoch: 2 Loss: 0.422115\n",
            "Test loss: 0.3480, Accuracy: 91%\n",
            "Train Epoch: 3 Loss: 0.358582\n",
            "Test loss: 0.3268, Accuracy: 91%\n",
            "Train Epoch: 4 Loss: 0.328425\n",
            "Test loss: 0.3145, Accuracy: 91%\n",
            "Train Epoch: 5 Loss: 0.309395\n",
            "Test loss: 0.3064, Accuracy: 91%\n",
            "Train Epoch: 6 Loss: 0.295858\n",
            "Test loss: 0.3006, Accuracy: 92%\n",
            "Train Epoch: 7 Loss: 0.285573\n",
            "Test loss: 0.2962, Accuracy: 92%\n",
            "Train Epoch: 8 Loss: 0.277422\n",
            "Test loss: 0.2927, Accuracy: 92%\n",
            "Train Epoch: 9 Loss: 0.270765\n",
            "Test loss: 0.2900, Accuracy: 92%\n",
            "Train Epoch: 10 Loss: 0.265200\n",
            "Test loss: 0.2877, Accuracy: 92%\n",
            "################################################\n",
            "Learning rate: 0.25\n",
            "The intial loss value: 2.3820271492004395\n",
            "Train Epoch: 1 Loss: 2.382027\n",
            "Test loss: 0.3515, Accuracy: 91%\n",
            "Train Epoch: 2 Loss: 0.363082\n",
            "Test loss: 0.3174, Accuracy: 91%\n",
            "Train Epoch: 3 Loss: 0.313817\n",
            "Test loss: 0.3033, Accuracy: 91%\n",
            "Train Epoch: 4 Loss: 0.289839\n",
            "Test loss: 0.2954, Accuracy: 92%\n",
            "Train Epoch: 5 Loss: 0.274846\n",
            "Test loss: 0.2903, Accuracy: 92%\n",
            "Train Epoch: 6 Loss: 0.264359\n",
            "Test loss: 0.2867, Accuracy: 92%\n",
            "Train Epoch: 7 Loss: 0.256495\n",
            "Test loss: 0.2841, Accuracy: 92%\n",
            "Train Epoch: 8 Loss: 0.250308\n",
            "Test loss: 0.2820, Accuracy: 92%\n",
            "Train Epoch: 9 Loss: 0.245265\n",
            "Test loss: 0.2804, Accuracy: 92%\n",
            "Train Epoch: 10 Loss: 0.241045\n",
            "Test loss: 0.2790, Accuracy: 92%\n",
            "################################################\n",
            "Learning rate: 0.5\n",
            "The intial loss value: 2.288123369216919\n",
            "Train Epoch: 1 Loss: 2.288123\n",
            "Test loss: 0.3293, Accuracy: 91%\n",
            "Train Epoch: 2 Loss: 0.317661\n",
            "Test loss: 0.3059, Accuracy: 91%\n",
            "Train Epoch: 3 Loss: 0.278899\n",
            "Test loss: 0.2968, Accuracy: 91%\n",
            "Train Epoch: 4 Loss: 0.260845\n",
            "Test loss: 0.2920, Accuracy: 92%\n",
            "Train Epoch: 5 Loss: 0.249819\n",
            "Test loss: 0.2889, Accuracy: 92%\n",
            "Train Epoch: 6 Loss: 0.242123\n",
            "Test loss: 0.2867, Accuracy: 92%\n",
            "Train Epoch: 7 Loss: 0.236316\n",
            "Test loss: 0.2851, Accuracy: 92%\n",
            "Train Epoch: 8 Loss: 0.231709\n",
            "Test loss: 0.2838, Accuracy: 92%\n",
            "Train Epoch: 9 Loss: 0.227925\n",
            "Test loss: 0.2828, Accuracy: 92%\n",
            "Train Epoch: 10 Loss: 0.224737\n",
            "Test loss: 0.2819, Accuracy: 92%\n",
            "################################################\n",
            "Learning rate: 1\n",
            "The intial loss value: 2.352816104888916\n",
            "Train Epoch: 1 Loss: 2.352816\n",
            "Test loss: 0.3413, Accuracy: 90%\n",
            "Train Epoch: 2 Loss: 0.296772\n",
            "Test loss: 0.3228, Accuracy: 91%\n",
            "Train Epoch: 3 Loss: 0.267158\n",
            "Test loss: 0.3156, Accuracy: 91%\n",
            "Train Epoch: 4 Loss: 0.253319\n",
            "Test loss: 0.3116, Accuracy: 91%\n",
            "Train Epoch: 5 Loss: 0.244536\n",
            "Test loss: 0.3089, Accuracy: 91%\n",
            "Train Epoch: 6 Loss: 0.238158\n",
            "Test loss: 0.3070, Accuracy: 91%\n",
            "Train Epoch: 7 Loss: 0.233190\n",
            "Test loss: 0.3055, Accuracy: 91%\n",
            "Train Epoch: 8 Loss: 0.229157\n",
            "Test loss: 0.3043, Accuracy: 91%\n",
            "Train Epoch: 9 Loss: 0.225799\n",
            "Test loss: 0.3034, Accuracy: 91%\n",
            "Train Epoch: 10 Loss: 0.222950\n",
            "Test loss: 0.3026, Accuracy: 91%\n",
            "################################################\n",
            "Learning rate: 2\n",
            "The intial loss value: 2.300819158554077\n",
            "Train Epoch: 1 Loss: 2.300819\n",
            "Test loss: 0.4218, Accuracy: 89%\n",
            "Train Epoch: 2 Loss: 0.329852\n",
            "Test loss: 0.4203, Accuracy: 89%\n",
            "Train Epoch: 3 Loss: 0.308781\n",
            "Test loss: 0.4108, Accuracy: 90%\n",
            "Train Epoch: 4 Loss: 0.290122\n",
            "Test loss: 0.4053, Accuracy: 90%\n",
            "Train Epoch: 5 Loss: 0.280453\n",
            "Test loss: 0.3991, Accuracy: 90%\n",
            "Train Epoch: 6 Loss: 0.270539\n",
            "Test loss: 0.3945, Accuracy: 90%\n",
            "Train Epoch: 7 Loss: 0.263850\n",
            "Test loss: 0.3913, Accuracy: 90%\n",
            "Train Epoch: 8 Loss: 0.259083\n",
            "Test loss: 0.3890, Accuracy: 90%\n",
            "Train Epoch: 9 Loss: 0.255416\n",
            "Test loss: 0.3871, Accuracy: 90%\n",
            "Train Epoch: 10 Loss: 0.252394\n",
            "Test loss: 0.3855, Accuracy: 90%\n",
            "################################################\n",
            "Learning rate: 4\n",
            "The intial loss value: 2.3017826080322266\n",
            "Train Epoch: 1 Loss: 2.301783\n",
            "Test loss: 0.7161, Accuracy: 89%\n",
            "Train Epoch: 2 Loss: 0.546106\n",
            "Test loss: 0.7432, Accuracy: 89%\n",
            "Train Epoch: 3 Loss: 0.465012\n",
            "Test loss: 0.7114, Accuracy: 89%\n",
            "Train Epoch: 4 Loss: 0.433258\n",
            "Test loss: 0.6927, Accuracy: 89%\n",
            "Train Epoch: 5 Loss: 0.414357\n",
            "Test loss: 0.6685, Accuracy: 89%\n",
            "Train Epoch: 6 Loss: 0.390863\n",
            "Test loss: 0.6809, Accuracy: 89%\n",
            "Train Epoch: 7 Loss: 0.392735\n",
            "Test loss: 0.6825, Accuracy: 90%\n",
            "Train Epoch: 8 Loss: 0.384141\n",
            "Test loss: 0.6974, Accuracy: 89%\n",
            "Train Epoch: 9 Loss: 0.386639\n",
            "Test loss: 0.6248, Accuracy: 90%\n",
            "Train Epoch: 10 Loss: 0.364020\n",
            "Test loss: 0.6720, Accuracy: 90%\n",
            "################################################\n",
            "Learning rate: 8\n",
            "The intial loss value: 2.336204767227173\n",
            "Train Epoch: 1 Loss: 2.336205\n",
            "Test loss: 1.4113, Accuracy: 88%\n",
            "Train Epoch: 2 Loss: 1.015153\n",
            "Test loss: 1.4636, Accuracy: 88%\n",
            "Train Epoch: 3 Loss: 0.820257\n",
            "Test loss: 1.5808, Accuracy: 88%\n",
            "Train Epoch: 4 Loss: 0.857985\n",
            "Test loss: 1.4534, Accuracy: 89%\n",
            "Train Epoch: 5 Loss: 0.780288\n",
            "Test loss: 1.2130, Accuracy: 89%\n",
            "Train Epoch: 6 Loss: 0.732198\n",
            "Test loss: 1.3349, Accuracy: 89%\n",
            "Train Epoch: 7 Loss: 0.720086\n",
            "Test loss: 1.3695, Accuracy: 89%\n",
            "Train Epoch: 8 Loss: 0.688120\n",
            "Test loss: 1.2367, Accuracy: 90%\n",
            "Train Epoch: 9 Loss: 0.627309\n",
            "Test loss: 1.4828, Accuracy: 89%\n",
            "Train Epoch: 10 Loss: 0.722798\n",
            "Test loss: 1.2873, Accuracy: 89%\n",
            "################################################\n",
            "Learning rate: 16\n",
            "The intial loss value: 2.362182378768921\n",
            "Train Epoch: 1 Loss: 2.362182\n",
            "Test loss: 2.8469, Accuracy: 89%\n",
            "Train Epoch: 2 Loss: 1.765783\n",
            "Test loss: 2.9259, Accuracy: 88%\n",
            "Train Epoch: 3 Loss: 1.633844\n",
            "Test loss: 2.9325, Accuracy: 88%\n",
            "Train Epoch: 4 Loss: 1.586537\n",
            "Test loss: 2.7900, Accuracy: 89%\n",
            "Train Epoch: 5 Loss: 1.604565\n",
            "Test loss: 2.6759, Accuracy: 89%\n",
            "Train Epoch: 6 Loss: 1.401461\n",
            "Test loss: 2.6799, Accuracy: 89%\n",
            "Train Epoch: 7 Loss: 1.400384\n",
            "Test loss: 2.9947, Accuracy: 88%\n",
            "Train Epoch: 8 Loss: 1.333684\n",
            "Test loss: 2.8341, Accuracy: 89%\n",
            "Train Epoch: 9 Loss: 1.527603\n",
            "Test loss: 2.7050, Accuracy: 89%\n",
            "Train Epoch: 10 Loss: 1.379632\n",
            "Test loss: 2.3855, Accuracy: 90%\n",
            "################################################\n",
            "Learning rate: 32\n",
            "The intial loss value: 2.3284130096435547\n",
            "Train Epoch: 1 Loss: 2.328413\n",
            "Test loss: 6.1813, Accuracy: 88%\n",
            "Train Epoch: 2 Loss: 4.172031\n",
            "Test loss: 6.1935, Accuracy: 88%\n",
            "Train Epoch: 3 Loss: 3.927084\n",
            "Test loss: 5.5421, Accuracy: 89%\n",
            "Train Epoch: 4 Loss: 3.499666\n",
            "Test loss: 5.7845, Accuracy: 89%\n",
            "Train Epoch: 5 Loss: 3.289096\n",
            "Test loss: 5.5140, Accuracy: 89%\n",
            "Train Epoch: 6 Loss: 3.162734\n",
            "Test loss: 4.9321, Accuracy: 89%\n",
            "Train Epoch: 7 Loss: 2.600510\n",
            "Test loss: 4.8653, Accuracy: 89%\n",
            "Train Epoch: 8 Loss: 2.611508\n",
            "Test loss: 4.4814, Accuracy: 90%\n",
            "Train Epoch: 9 Loss: 2.219917\n",
            "Test loss: 5.2910, Accuracy: 89%\n",
            "Train Epoch: 10 Loss: 2.843087\n",
            "Test loss: 5.6565, Accuracy: 89%\n",
            "################################################\n",
            "Learning rate: 64\n",
            "The intial loss value: 2.2719600200653076\n",
            "Train Epoch: 1 Loss: 2.271960\n",
            "Test loss: 9.9447, Accuracy: 89%\n",
            "Train Epoch: 2 Loss: 6.866813\n",
            "Test loss: 12.0828, Accuracy: 87%\n",
            "Train Epoch: 3 Loss: 6.966315\n",
            "Test loss: 11.5213, Accuracy: 88%\n",
            "Train Epoch: 4 Loss: 6.995743\n",
            "Test loss: 11.9224, Accuracy: 88%\n",
            "Train Epoch: 5 Loss: 7.199751\n",
            "Test loss: 12.4350, Accuracy: 88%\n",
            "Train Epoch: 6 Loss: 7.791086\n",
            "Test loss: 9.7253, Accuracy: 90%\n",
            "Train Epoch: 7 Loss: 5.524786\n",
            "Test loss: 9.6138, Accuracy: 90%\n",
            "Train Epoch: 8 Loss: 4.822384\n",
            "Test loss: 10.8800, Accuracy: 89%\n",
            "Train Epoch: 9 Loss: 6.098466\n",
            "Test loss: 9.3283, Accuracy: 90%\n",
            "Train Epoch: 10 Loss: 5.632324\n",
            "Test loss: 11.1508, Accuracy: 89%\n",
            "################################################\n",
            "Learning rate: 128\n",
            "The intial loss value: 2.3299012184143066\n",
            "Train Epoch: 1 Loss: 2.329901\n",
            "Test loss: 26.3454, Accuracy: 88%\n",
            "Train Epoch: 2 Loss: 16.374037\n",
            "Test loss: 25.4462, Accuracy: 87%\n",
            "Train Epoch: 3 Loss: 14.062740\n",
            "Test loss: 23.7490, Accuracy: 88%\n",
            "Train Epoch: 4 Loss: 11.221129\n",
            "Test loss: 19.7642, Accuracy: 89%\n",
            "Train Epoch: 5 Loss: 12.120070\n",
            "Test loss: 19.8191, Accuracy: 90%\n",
            "Train Epoch: 6 Loss: 11.048383\n",
            "Test loss: 19.4569, Accuracy: 89%\n",
            "Train Epoch: 7 Loss: 10.720785\n",
            "Test loss: 22.2323, Accuracy: 89%\n",
            "Train Epoch: 8 Loss: 12.003797\n",
            "Test loss: 22.4373, Accuracy: 89%\n",
            "Train Epoch: 9 Loss: 11.397933\n",
            "Test loss: 16.7458, Accuracy: 90%\n",
            "Train Epoch: 10 Loss: 8.360430\n",
            "Test loss: 19.6952, Accuracy: 89%\n",
            "################################################\n",
            "Learning rate: 256\n",
            "The intial loss value: 2.282787561416626\n",
            "Train Epoch: 1 Loss: 2.282788\n",
            "Test loss: 51.9564, Accuracy: 88%\n",
            "Train Epoch: 2 Loss: 37.469608\n",
            "Test loss: 44.2835, Accuracy: 89%\n",
            "Train Epoch: 3 Loss: 29.854404\n",
            "Test loss: 38.5610, Accuracy: 90%\n",
            "Train Epoch: 4 Loss: 23.732672\n",
            "Test loss: 45.0262, Accuracy: 88%\n",
            "Train Epoch: 5 Loss: 23.419971\n",
            "Test loss: 51.7502, Accuracy: 87%\n",
            "Train Epoch: 6 Loss: 27.270058\n",
            "Test loss: 34.1253, Accuracy: 91%\n",
            "Train Epoch: 7 Loss: 23.055391\n",
            "Test loss: 44.8482, Accuracy: 88%\n",
            "Train Epoch: 8 Loss: 22.861811\n",
            "Test loss: 56.7119, Accuracy: 86%\n",
            "Train Epoch: 9 Loss: 32.442482\n",
            "Test loss: 45.3142, Accuracy: 89%\n",
            "Train Epoch: 10 Loss: 25.765188\n",
            "Test loss: 39.0834, Accuracy: 89%\n",
            "################################################\n",
            "Learning rate: 512\n",
            "The intial loss value: 2.3261594772338867\n",
            "Train Epoch: 1 Loss: 2.326159\n",
            "Test loss: 117.6036, Accuracy: 87%\n",
            "Train Epoch: 2 Loss: 73.291443\n",
            "Test loss: 86.5140, Accuracy: 89%\n",
            "Train Epoch: 3 Loss: 52.409225\n",
            "Test loss: 74.5957, Accuracy: 89%\n",
            "Train Epoch: 4 Loss: 45.485313\n",
            "Test loss: 102.3768, Accuracy: 88%\n",
            "Train Epoch: 5 Loss: 55.580490\n",
            "Test loss: 91.7670, Accuracy: 89%\n",
            "Train Epoch: 6 Loss: 54.860950\n",
            "Test loss: 83.4177, Accuracy: 89%\n",
            "Train Epoch: 7 Loss: 43.664120\n",
            "Test loss: 81.3809, Accuracy: 89%\n",
            "Train Epoch: 8 Loss: 41.207230\n",
            "Test loss: 82.8091, Accuracy: 89%\n",
            "Train Epoch: 9 Loss: 40.726238\n",
            "Test loss: 67.5536, Accuracy: 90%\n",
            "Train Epoch: 10 Loss: 43.984413\n",
            "Test loss: 86.5299, Accuracy: 89%\n",
            "################################################\n",
            "Learning rate: 1024\n",
            "The intial loss value: 2.3260223865509033\n",
            "Train Epoch: 1 Loss: 2.326022\n",
            "Test loss: 202.4843, Accuracy: 87%\n",
            "Train Epoch: 2 Loss: 140.219955\n",
            "Test loss: 168.3238, Accuracy: 89%\n",
            "Train Epoch: 3 Loss: 91.590126\n",
            "Test loss: 193.0898, Accuracy: 88%\n",
            "Train Epoch: 4 Loss: 105.302689\n",
            "Test loss: 178.7746, Accuracy: 89%\n",
            "Train Epoch: 5 Loss: 89.397881\n",
            "Test loss: 172.6938, Accuracy: 88%\n",
            "Train Epoch: 6 Loss: 94.101807\n",
            "Test loss: 167.2316, Accuracy: 89%\n",
            "Train Epoch: 7 Loss: 84.527908\n",
            "Test loss: 139.3214, Accuracy: 90%\n",
            "Train Epoch: 8 Loss: 77.210114\n",
            "Test loss: 145.1421, Accuracy: 90%\n",
            "Train Epoch: 9 Loss: 83.005798\n",
            "Test loss: 193.2397, Accuracy: 89%\n",
            "Train Epoch: 10 Loss: 104.640907\n",
            "Test loss: 149.7681, Accuracy: 89%\n"
          ],
          "name": "stdout"
        }
      ]
    },
    {
      "cell_type": "markdown",
      "metadata": {
        "id": "nVtDuysEgue6",
        "colab_type": "text"
      },
      "source": [
        "## View the Results"
      ]
    },
    {
      "cell_type": "code",
      "metadata": {
        "id": "18PueLyaQCrh",
        "colab_type": "code",
        "outputId": "64ab1475-9a66-4ad6-bf25-05c6cd6f19ed",
        "colab": {
          "base_uri": "https://localhost:8080/",
          "height": 119
        }
      },
      "source": [
        "np.array(learning_rates)"
      ],
      "execution_count": 0,
      "outputs": [
        {
          "output_type": "execute_result",
          "data": {
            "text/plain": [
              "array([9.765625e-04, 1.953125e-03, 3.906250e-03, 7.812500e-03,\n",
              "       1.562500e-02, 3.125000e-02, 6.250000e-02, 1.250000e-01,\n",
              "       2.500000e-01, 5.000000e-01, 1.000000e+00, 2.000000e+00,\n",
              "       4.000000e+00, 8.000000e+00, 1.600000e+01, 3.200000e+01,\n",
              "       6.400000e+01, 1.280000e+02, 2.560000e+02, 5.120000e+02,\n",
              "       1.024000e+03])"
            ]
          },
          "metadata": {
            "tags": []
          },
          "execution_count": 182
        }
      ]
    },
    {
      "cell_type": "code",
      "metadata": {
        "id": "s5m_7ZLDgvBA",
        "colab_type": "code",
        "outputId": "a8f58fce-b64f-44f5-f3d3-49320c2c89a7",
        "colab": {
          "base_uri": "https://localhost:8080/",
          "height": 283
        }
      },
      "source": [
        "fig, ax = plt.subplots()\n",
        "plt.semilogx(np.array(learning_rates), train_error_50.cpu().numpy(), label = 'training loss')\n",
        "plt.semilogx(np.array(learning_rates), validation_error_50.cpu().numpy(), label = 'validation cost')\n",
        "ax.set_xscale('log', basex=2)\n",
        "plt.ylabel('Total Loss')\n",
        "plt.xlabel('Learning Rate')\n",
        "plt.legend()\n",
        "plt.show()"
      ],
      "execution_count": 0,
      "outputs": [
        {
          "output_type": "display_data",
          "data": {
            "image/png": "[encoded data removed]",
            "text/plain": [
              "<Figure size 432x288 with 1 Axes>"
            ]
          },
          "metadata": {
            "tags": []
          }
        }
      ]
    },
    {
      "cell_type": "code",
      "metadata": {
        "id": "wbVZNwvxHsaX",
        "colab_type": "code",
        "outputId": "69a03e13-09be-4d2a-9bf1-6f40a261aa95",
        "colab": {
          "base_uri": "https://localhost:8080/",
          "height": 283
        }
      },
      "source": [
        "# Plot the training loss and validation loss\n",
        "# plt.plot(np.array(learning_rates), train_error.cpu().numpy(), label = 'training loss/total Loss')\n",
        "# plt.plot(np.array(learning_rates), validation_error.cpu().numpy(), label = 'validation cost/total Loss')\n",
        "fig, ax = plt.subplots()\n",
        "plt.semilogx(np.array(learning_rates), train_error_100.cpu().numpy(), label = 'training loss/total Loss')\n",
        "plt.semilogx(np.array(learning_rates), validation_error_100.cpu().numpy(), label = 'validation cost/total Loss')\n",
        "ax.set_xscale('log', basex=2)\n",
        "plt.ylabel('Cost\\ Total Loss')\n",
        "plt.xlabel('learning rate')\n",
        "plt.legend()\n",
        "plt.show()"
      ],
      "execution_count": 0,
      "outputs": [
        {
          "output_type": "display_data",
          "data": {
            "image/png": "[encoded data removed]",
            "text/plain": [
              "<Figure size 432x288 with 1 Axes>"
            ]
          },
          "metadata": {
            "tags": []
          }
        }
      ]
    },
    {
      "cell_type": "code",
      "metadata": {
        "id": "LQiK0vU3Hs0j",
        "colab_type": "code",
        "outputId": "fa1c98ea-9dbe-4d88-ae0c-4854e5a72a81",
        "colab": {
          "base_uri": "https://localhost:8080/",
          "height": 283
        }
      },
      "source": [
        "# Plot the training loss and validation loss\n",
        "# plt.plot(np.array(learning_rates), train_error.cpu().numpy(), label = 'training loss/total Loss')\n",
        "# plt.plot(np.array(learning_rates), validation_error.cpu().numpy(), label = 'validation cost/total Loss')\n",
        "fig, ax = plt.subplots()\n",
        "plt.semilogx(np.array(learning_rates), train_error_200.cpu().numpy(), label = 'training loss/total Loss')\n",
        "plt.semilogx(np.array(learning_rates), validation_error_200.cpu().numpy(), label = 'validation cost/total Loss')\n",
        "ax.set_xscale('log', basex=2)\n",
        "plt.ylabel('Cost\\ Total Loss')\n",
        "plt.xlabel('learning rate')\n",
        "plt.legend()\n",
        "plt.show()"
      ],
      "execution_count": 0,
      "outputs": [
        {
          "output_type": "display_data",
          "data": {
            "image/png": "[encoded data removed]",
            "text/plain": [
              "<Figure size 432x288 with 1 Axes>"
            ]
          },
          "metadata": {
            "tags": []
          }
        }
      ]
    },
    {
      "cell_type": "code",
      "metadata": {
        "id": "OsGMDtt9iZrz",
        "colab_type": "code",
        "outputId": "4a26366f-1e18-4a46-ed1f-338b76ad1899",
        "colab": {
          "base_uri": "https://localhost:8080/",
          "height": 34
        }
      },
      "source": [
        "min(train_error_50)"
      ],
      "execution_count": 0,
      "outputs": [
        {
          "output_type": "execute_result",
          "data": {
            "text/plain": [
              "tensor(0.0827)"
            ]
          },
          "metadata": {
            "tags": []
          },
          "execution_count": 202
        }
      ]
    },
    {
      "cell_type": "code",
      "metadata": {
        "id": "BVHhrdvoir5H",
        "colab_type": "code",
        "outputId": "39a27b7d-557a-4031-f9d5-23df24149aaf",
        "colab": {
          "base_uri": "https://localhost:8080/",
          "height": 34
        }
      },
      "source": [
        "min(train_error_100)"
      ],
      "execution_count": 0,
      "outputs": [
        {
          "output_type": "execute_result",
          "data": {
            "text/plain": [
              "tensor(0.2783)"
            ]
          },
          "metadata": {
            "tags": []
          },
          "execution_count": 203
        }
      ]
    },
    {
      "cell_type": "code",
      "metadata": {
        "id": "wZ2C2FFmjKFF",
        "colab_type": "code",
        "outputId": "23f9f0e7-3708-425c-ceb4-52dd24e11d0b",
        "colab": {
          "base_uri": "https://localhost:8080/",
          "height": 34
        }
      },
      "source": [
        "train_error_100.argmin()"
      ],
      "execution_count": 0,
      "outputs": [
        {
          "output_type": "execute_result",
          "data": {
            "text/plain": [
              "tensor(9)"
            ]
          },
          "metadata": {
            "tags": []
          },
          "execution_count": 204
        }
      ]
    },
    {
      "cell_type": "code",
      "metadata": {
        "id": "sQ2OLR_QitWo",
        "colab_type": "code",
        "outputId": "54abf9c4-5264-43ba-edf7-7655df444b97",
        "colab": {
          "base_uri": "https://localhost:8080/",
          "height": 34
        }
      },
      "source": [
        "min(train_error_200)"
      ],
      "execution_count": 0,
      "outputs": [
        {
          "output_type": "execute_result",
          "data": {
            "text/plain": [
              "tensor(0.1318)"
            ]
          },
          "metadata": {
            "tags": []
          },
          "execution_count": 205
        }
      ]
    },
    {
      "cell_type": "code",
      "metadata": {
        "id": "jWbXtw-LjMpO",
        "colab_type": "code",
        "outputId": "f9e997dc-3fb7-414c-ba74-7cbbdfdabd8c",
        "colab": {
          "base_uri": "https://localhost:8080/",
          "height": 34
        }
      },
      "source": [
        "train_error_200.argmin()"
      ],
      "execution_count": 0,
      "outputs": [
        {
          "output_type": "execute_result",
          "data": {
            "text/plain": [
              "tensor(11)"
            ]
          },
          "metadata": {
            "tags": []
          },
          "execution_count": 206
        }
      ]
    },
    {
      "cell_type": "code",
      "metadata": {
        "id": "5p50TGhNktTw",
        "colab_type": "code",
        "outputId": "6449bf74-240a-4eb7-cafb-6965430e16ad",
        "colab": {
          "base_uri": "https://localhost:8080/",
          "height": 68
        }
      },
      "source": [
        "print(learning_rates[train_error_50.argmin()]) # Batch size: 50\n",
        "print(learning_rates[train_error_100.argmin()]) # Batch size: 100\n",
        "print(learning_rates[train_error_200.argmin()]) # # Batch size: 200"
      ],
      "execution_count": 0,
      "outputs": [
        {
          "output_type": "stream",
          "text": [
            "1\n",
            "0.5\n",
            "2\n"
          ],
          "name": "stdout"
        }
      ]
    },
    {
      "cell_type": "code",
      "metadata": {
        "id": "-EAmpDUvlo0w",
        "colab_type": "code",
        "outputId": "1be5f101-405e-4494-ff48-686167df8103",
        "colab": {
          "base_uri": "https://localhost:8080/",
          "height": 68
        }
      },
      "source": [
        "best_batch = [min(train_error_50).cpu().numpy(), min(train_error_100).cpu().numpy(), min(train_error_200).cpu().numpy()]\n",
        "best_batch"
      ],
      "execution_count": 0,
      "outputs": [
        {
          "output_type": "execute_result",
          "data": {
            "text/plain": [
              "[array(0.08265018, dtype=float32),\n",
              " array(0.27827293, dtype=float32),\n",
              " array(0.1318173, dtype=float32)]"
            ]
          },
          "metadata": {
            "tags": []
          },
          "execution_count": 208
        }
      ]
    },
    {
      "cell_type": "code",
      "metadata": {
        "id": "cMg9GFJ_Jxu4",
        "colab_type": "code",
        "colab": {}
      },
      "source": [
        "learning_rates[train_error_50.argmin()]"
      ],
      "execution_count": 0,
      "outputs": []
    },
    {
      "cell_type": "code",
      "metadata": {
        "id": "2MxnRCpcl11u",
        "colab_type": "code",
        "outputId": "346ec95f-b402-4a1d-ee32-eae1470048b1",
        "colab": {
          "base_uri": "https://localhost:8080/",
          "height": 333
        }
      },
      "source": [
        "plt.plot(best_batch)\n",
        "positions = (0, 1, 2)\n",
        "labels = (\"batch 50: learning 1\", \"batch 100\", \"batch 200\")\n",
        "plt.xticks(positions, labels)"
      ],
      "execution_count": 0,
      "outputs": [
        {
          "output_type": "execute_result",
          "data": {
            "text/plain": [
              "([<matplotlib.axis.XTick at 0x7fd128490b70>,\n",
              "  <matplotlib.axis.XTick at 0x7fd12816bf60>,\n",
              "  <matplotlib.axis.XTick at 0x7fd12816b048>],\n",
              " <a list of 3 Text xticklabel objects>)"
            ]
          },
          "metadata": {
            "tags": []
          },
          "execution_count": 210
        },
        {
          "output_type": "display_data",
          "data": {
            "image/png": "[encoded data removed]",
            "text/plain": [
              "<Figure size 432x288 with 1 Axes>"
            ]
          },
          "metadata": {
            "tags": []
          }
        }
      ]
    },
    {
      "cell_type": "markdown",
      "metadata": {
        "id": "2PWH-125JUG9",
        "colab_type": "text"
      },
      "source": [
        "# Show the graph for the 3 BS runs with the best  𝛾 "
      ]
    },
    {
      "cell_type": "code",
      "metadata": {
        "id": "-ym8uhX6JVo3",
        "colab_type": "code",
        "outputId": "1a24b0fe-83e8-49ec-8b3f-6ad72e8f1aa6",
        "colab": {
          "base_uri": "https://localhost:8080/",
          "height": 408
        }
      },
      "source": [
        "transform = transforms.Compose(\n",
        "    [transforms.ToTensor()])\n",
        "train_dataset = torchvision.datasets.MNIST(root='./data', train=True, download=True, transform=transform)\n",
        "validation_dataset  = torchvision.datasets.MNIST(root='./data', train=False, download=True, transform=transform)\n",
        " \n",
        "train_loader = torch.utils.data.DataLoader(dataset=train_dataset, batch_size=50, shuffle=False)\n",
        "validation_loader = torch.utils.data.DataLoader(dataset=validation_dataset, batch_size=10000)\n",
        "\n",
        "# Define the train model function and train the model\n",
        "\n",
        "# iterate through different learning rates \n",
        "lr = 1\n",
        "print(\"################################################\")\n",
        "print('Learning rate: {}'.format(lr))\n",
        "model = linear_regression(28*28, 10).cuda()\n",
        "optimizer = optim.SGD(model.parameters(), lr = lr)\n",
        "loss_50_ = []\n",
        "test_loss_50_ = []\n",
        "for epoch in range(10):\n",
        "     \n",
        "    for batch_i, (data, target) in enumerate(train_loader):\n",
        "        data, target = Variable(data).cuda(), Variable(target).cuda()\n",
        "        data = data.view(-1, 28*28)\n",
        "        optimizer.zero_grad()\n",
        "        net_out = model(data).cuda()\n",
        "        loss = criterion(net_out, target)\n",
        "        if batch_i == 0 and epoch == 0:\n",
        "            print('The intial loss value:',loss.item()) \n",
        "        loss.backward()\n",
        "        optimizer.step()\n",
        "        if batch_i % 1200 == 0:\n",
        "            print('Train Epoch: {} Loss: {:.6f}'.format(epoch+1, loss.item()))\n",
        "        \n",
        "    model.eval()\n",
        "    with torch.no_grad():\n",
        "        \n",
        "        correct = 0            \n",
        "        for data, target in validation_loader:\n",
        "            data, target = Variable(data).cuda(), Variable(target).cuda()\n",
        "            data = data.view(-1, 28 * 28)\n",
        "            net_out = model(data).cuda()\n",
        "            # sum up batch loss\n",
        "            test_loss += criterion(net_out, target)#.item()\n",
        "            pred = net_out.data.max(1)[1]  # get the index of the max log-probability\n",
        "            correct += pred.eq(target.data).sum()\n",
        "        print('Test Average loss: {:.4f}, Accuracy: {:.0f}%'.format(test_loss, 100. * correct / len(validation_loader.dataset)))\n",
        "    loss_50_.append(loss.item())\n",
        "    test_loss_50_.append(test_loss.item())\n",
        "    MODELS.append(model)      "
      ],
      "execution_count": 0,
      "outputs": [
        {
          "output_type": "stream",
          "text": [
            "################################################\n",
            "Learning rate: 1\n",
            "The intial loss value: 2.316136121749878\n",
            "Train Epoch: 1 Loss: 2.316136\n",
            "Test Average loss: 0.7368, Accuracy: 88%\n",
            "Train Epoch: 2 Loss: 0.207184\n",
            "Test Average loss: 1.1610, Accuracy: 89%\n",
            "Train Epoch: 3 Loss: 0.182615\n",
            "Test Average loss: 1.5744, Accuracy: 89%\n",
            "Train Epoch: 4 Loss: 0.173435\n",
            "Test Average loss: 1.9756, Accuracy: 89%\n",
            "Train Epoch: 5 Loss: 0.167937\n",
            "Test Average loss: 2.3663, Accuracy: 90%\n",
            "Train Epoch: 6 Loss: 0.161883\n",
            "Test Average loss: 2.7494, Accuracy: 90%\n",
            "Train Epoch: 7 Loss: 0.155409\n",
            "Test Average loss: 3.1283, Accuracy: 90%\n",
            "Train Epoch: 8 Loss: 0.150458\n",
            "Test Average loss: 3.5051, Accuracy: 90%\n",
            "Train Epoch: 9 Loss: 0.146675\n",
            "Test Average loss: 3.8811, Accuracy: 90%\n",
            "Train Epoch: 10 Loss: 0.143702\n",
            "Test Average loss: 4.2570, Accuracy: 90%\n"
          ],
          "name": "stdout"
        }
      ]
    },
    {
      "cell_type": "code",
      "metadata": {
        "id": "I_DnwXPsLIdM",
        "colab_type": "code",
        "outputId": "83080b39-2455-4f39-adc9-0e2b254f52ea",
        "colab": {
          "base_uri": "https://localhost:8080/",
          "height": 408
        }
      },
      "source": [
        "transform = transforms.Compose(\n",
        "    [transforms.ToTensor()])\n",
        "train_dataset = torchvision.datasets.MNIST(root='./data', train=True, download=True, transform=transform)\n",
        "validation_dataset  = torchvision.datasets.MNIST(root='./data', train=False, download=True, transform=transform)\n",
        " \n",
        "train_loader = torch.utils.data.DataLoader(dataset=train_dataset, batch_size=100, shuffle=False)\n",
        "validation_loader = torch.utils.data.DataLoader(dataset=validation_dataset, batch_size=10000)\n",
        "\n",
        "lr = .5\n",
        "print(\"################################################\")\n",
        "print('Learning rate: {}'.format(lr))\n",
        "model = linear_regression(28*28, 10).cuda()\n",
        "optimizer = optim.SGD(model.parameters(), lr = lr)\n",
        "loss_100_ = []\n",
        "test_loss_100_ = []\n",
        "for epoch in range(10):\n",
        "    \n",
        "    for batch_i, (data, target) in enumerate(train_loader):\n",
        "        data, target = Variable(data).cuda(), Variable(target).cuda()\n",
        "        data = data.view(-1, 28*28)\n",
        "        optimizer.zero_grad()\n",
        "        net_out = model(data).cuda()\n",
        "        loss = criterion(net_out, target)\n",
        "        if batch_i == 0 and epoch == 0:\n",
        "            print('The intial loss value:',loss.item()) \n",
        "        loss.backward()\n",
        "        optimizer.step()\n",
        "        if batch_i % 600 == 0:\n",
        "            print('Train Epoch: {} Loss: {:.6f}'.format(epoch+1, loss.item()))\n",
        "        \n",
        "    model.eval()\n",
        "    with torch.no_grad():\n",
        "        \n",
        "        correct = 0            \n",
        "        for data, target in validation_loader:\n",
        "            data, target = Variable(data).cuda(), Variable(target).cuda()\n",
        "            data = data.view(-1, 28 * 28)\n",
        "            net_out = model(data).cuda()\n",
        "            # sum up batch loss\n",
        "            test_loss = criterion(net_out, target)#.item()\n",
        "            pred = net_out.data.max(1)[1]  # get the index of the max log-probability\n",
        "            correct += pred.eq(target.data).sum()\n",
        "        print('Test Average loss: {:.4f}, Accuracy: {:.0f}%'.format(test_loss, 100. * correct / len(validation_loader.dataset)))\n",
        "    loss_100_.append(loss.item())\n",
        "    test_loss_100_.append(test_loss.item())\n",
        "    MODELS.append(model)  "
      ],
      "execution_count": 0,
      "outputs": [
        {
          "output_type": "stream",
          "text": [
            "################################################\n",
            "Learning rate: 0.5\n",
            "The intial loss value: 2.2969770431518555\n",
            "Train Epoch: 1 Loss: 2.296977\n",
            "Test Average loss: 0.3242, Accuracy: 90%\n",
            "Train Epoch: 2 Loss: 0.242263\n",
            "Test Average loss: 0.3085, Accuracy: 91%\n",
            "Train Epoch: 3 Loss: 0.217746\n",
            "Test Average loss: 0.3027, Accuracy: 91%\n",
            "Train Epoch: 4 Loss: 0.208224\n",
            "Test Average loss: 0.2996, Accuracy: 91%\n",
            "Train Epoch: 5 Loss: 0.203350\n",
            "Test Average loss: 0.2975, Accuracy: 91%\n",
            "Train Epoch: 6 Loss: 0.200391\n",
            "Test Average loss: 0.2960, Accuracy: 91%\n",
            "Train Epoch: 7 Loss: 0.198366\n",
            "Test Average loss: 0.2949, Accuracy: 91%\n",
            "Train Epoch: 8 Loss: 0.196856\n",
            "Test Average loss: 0.2940, Accuracy: 92%\n",
            "Train Epoch: 9 Loss: 0.195656\n",
            "Test Average loss: 0.2932, Accuracy: 92%\n",
            "Train Epoch: 10 Loss: 0.194658\n",
            "Test Average loss: 0.2927, Accuracy: 92%\n"
          ],
          "name": "stdout"
        }
      ]
    },
    {
      "cell_type": "code",
      "metadata": {
        "id": "J2IGwBVKLZ3k",
        "colab_type": "code",
        "outputId": "b9491a52-0681-4046-c220-d4dc5b293d7a",
        "colab": {
          "base_uri": "https://localhost:8080/",
          "height": 408
        }
      },
      "source": [
        "transform = transforms.Compose(\n",
        "    [transforms.ToTensor()])\n",
        "train_dataset = torchvision.datasets.MNIST(root='./data', train=True, download=True, transform=transform)\n",
        "validation_dataset  = torchvision.datasets.MNIST(root='./data', train=False, download=True, transform=transform)\n",
        " \n",
        "train_loader = torch.utils.data.DataLoader(dataset=train_dataset, batch_size=200, shuffle=False)\n",
        "validation_loader = torch.utils.data.DataLoader(dataset=validation_dataset, batch_size=10000)\n",
        "\n",
        "lr = 2\n",
        "print(\"################################################\")\n",
        "print('Learning rate: {}'.format(lr))\n",
        "model = linear_regression(28*28, 10).cuda()\n",
        "optimizer = optim.SGD(model.parameters(), lr = lr)\n",
        "loss_200_ = []\n",
        "test_loss_200_ = []\n",
        "for epoch in range(10):\n",
        "    \n",
        "    for batch_i, (data, target) in enumerate(train_loader):\n",
        "        data, target = Variable(data).cuda(), Variable(target).cuda()\n",
        "        data = data.view(-1, 28*28)\n",
        "        optimizer.zero_grad()\n",
        "        net_out = model(data).cuda()\n",
        "        loss = criterion(net_out, target)\n",
        "        if batch_i == 0 and epoch == 0:\n",
        "            print('The intial loss value:',loss.item()) \n",
        "        loss.backward()\n",
        "        optimizer.step()\n",
        "        if batch_i % 300 == 0:\n",
        "            print('Train Epoch: {} Loss: {:.6f}'.format(epoch+1, loss.item()))\n",
        "        \n",
        "    model.eval()\n",
        "    with torch.no_grad():\n",
        "        correct = 0            \n",
        "        for data, target in validation_loader:\n",
        "            data, target = Variable(data).cuda(), Variable(target).cuda()\n",
        "            data = data.view(-1, 28 * 28)\n",
        "            net_out = model(data).cuda()\n",
        "            # sum up batch loss\n",
        "            test_loss += criterion(net_out, target)#.item()\n",
        "            pred = net_out.data.max(1)[1]  # get the index of the max log-probability\n",
        "            correct += pred.eq(target.data).sum()\n",
        "        print('Test Average loss: {:.4f}, Accuracy: {:.0f}%'.format(test_loss, 100. * correct / len(validation_loader.dataset)))\n",
        "    loss_200_.append(loss.item())\n",
        "    test_loss_200_.append(test_loss.item())\n",
        "    MODELS.append(model)  "
      ],
      "execution_count": 0,
      "outputs": [
        {
          "output_type": "stream",
          "text": [
            "################################################\n",
            "Learning rate: 2\n",
            "The intial loss value: 2.2917916774749756\n",
            "Train Epoch: 1 Loss: 2.291792\n",
            "Test Average loss: 5.1294, Accuracy: 89%\n",
            "Train Epoch: 2 Loss: 0.325915\n",
            "Test Average loss: 5.5474, Accuracy: 90%\n",
            "Train Epoch: 3 Loss: 0.305108\n",
            "Test Average loss: 5.9554, Accuracy: 90%\n",
            "Train Epoch: 4 Loss: 0.286195\n",
            "Test Average loss: 6.3589, Accuracy: 90%\n",
            "Train Epoch: 5 Loss: 0.278032\n",
            "Test Average loss: 6.7567, Accuracy: 90%\n",
            "Train Epoch: 6 Loss: 0.268679\n",
            "Test Average loss: 7.1502, Accuracy: 90%\n",
            "Train Epoch: 7 Loss: 0.262362\n",
            "Test Average loss: 7.5406, Accuracy: 90%\n",
            "Train Epoch: 8 Loss: 0.257854\n",
            "Test Average loss: 7.9289, Accuracy: 90%\n",
            "Train Epoch: 9 Loss: 0.254373\n",
            "Test Average loss: 8.3153, Accuracy: 90%\n",
            "Train Epoch: 10 Loss: 0.251496\n",
            "Test Average loss: 8.7003, Accuracy: 90%\n"
          ],
          "name": "stdout"
        }
      ]
    },
    {
      "cell_type": "code",
      "metadata": {
        "id": "B3EyS6J6SUzj",
        "colab_type": "code",
        "outputId": "991c5dec-98a2-42cb-f7d7-2a8907288ed7",
        "colab": {
          "base_uri": "https://localhost:8080/",
          "height": 34
        }
      },
      "source": [
        "loss_200_"
      ],
      "execution_count": 0,
      "outputs": [
        {
          "output_type": "execute_result",
          "data": {
            "text/plain": [
              "[0.13172079622745514]"
            ]
          },
          "metadata": {
            "tags": []
          },
          "execution_count": 242
        }
      ]
    },
    {
      "cell_type": "code",
      "metadata": {
        "id": "H9gCANO8LBLp",
        "colab_type": "code",
        "outputId": "cb3142a0-fd59-486f-b65b-a7be2004ba3a",
        "colab": {
          "base_uri": "https://localhost:8080/",
          "height": 669
        }
      },
      "source": [
        "# Plotting convergence at different learning rate\n",
        "plt.figure()\n",
        "plt.figure(figsize=[12, 10])\n",
        "a, = plt.plot(loss_50_,color='b',label='batch 50')\n",
        "b, = plt.plot(loss_100_,color='r',label='batch 100')\n",
        "c, = plt.plot(loss_200_,color='y',label='batch 200')\n",
        "plt.grid(True)\n",
        "# plt.xlim((0,10))\n",
        "# plt.ylim((0,500))\n",
        "plt.title('Convergence at different learning rate',fontsize=20)\n",
        "plt.xlabel('Episodes',fontsize=17)\n",
        "plt.ylabel('Loss',fontsize=17)\n",
        "plt.legend(bbox_to_anchor=(1.05, 1),handles=[a,b,c,],loc='best')"
      ],
      "execution_count": 0,
      "outputs": [
        {
          "output_type": "execute_result",
          "data": {
            "text/plain": [
              "<matplotlib.legend.Legend at 0x7fd1218efcf8>"
            ]
          },
          "metadata": {
            "tags": []
          },
          "execution_count": 246
        },
        {
          "output_type": "display_data",
          "data": {
            "text/plain": [
              "<Figure size 432x288 with 0 Axes>"
            ]
          },
          "metadata": {
            "tags": []
          }
        },
        {
          "output_type": "display_data",
          "data": {
            "image/png": "[encoded data removed]",
            "text/plain": [
              "<Figure size 864x720 with 1 Axes>"
            ]
          },
          "metadata": {
            "tags": []
          }
        }
      ]
    },
    {
      "cell_type": "code",
      "metadata": {
        "id": "IbRx3DN7g1Zz",
        "colab_type": "code",
        "colab": {}
      },
      "source": [
        "# # # Plot the predictions\n",
        "\n",
        "# i = 0\n",
        "# for model, learning_rate in zip(MODELS, learning_rates):\n",
        "#     yhat = model(validation_loader.dataset)\n",
        "#     plt.plot(validation_loader.dataset.numpy(), net_out.detach().numpy(), label = 'lr:' + str(learning_rate))\n",
        "#     print('i', yhat.detach().numpy()[0:3])\n",
        "# plt.plot(validation_loader.dataset.numpy(), validation_loader.dataset.f.numpy(), 'or', label = 'validation data')\n",
        "# plt.xlabel('x')\n",
        "# plt.ylabel('y')\n",
        "# plt.legend()\n",
        "# plt.show()"
      ],
      "execution_count": 0,
      "outputs": []
    },
    {
      "cell_type": "markdown",
      "metadata": {
        "id": "horxh6-9oOY6",
        "colab_type": "text"
      },
      "source": [
        "For a point which you obtain after 10 epochs (just one point, do not need to worry about this too much), compute a full gradient, let's call it $g_f $\n",
        "now compute 100 different stochastic gradients $g^i$ with minibatch \"b\" and let's estimate the \"variance\" of the stochastic gradient as \n",
        "\n",
        "$$\n",
        "V(b) = \\frac1{100} \\sum_{i=1}^{100}  \\| g^i - g_f \\|^2  for  b = 1, 2, 4, 8, .... 1024\n",
        "$$\n",
        "- Make a plot of V(b)"
      ]
    },
    {
      "cell_type": "code",
      "metadata": {
        "id": "aNM5Nu6o86MW",
        "colab_type": "code",
        "colab": {}
      },
      "source": [
        "batch_size = [1,2,4,8,16,32,64,128,256,512,1024]\n",
        "loss = nn.CrossEntropyLoss()\n",
        "\n",
        "train_loader = torch.utils.data.DataLoader(dataset=train_dataset, batch_size=len(train_dataset), shuffle=False)\n",
        "variances = torch.zeros(len(batch_size))\n",
        "\n",
        "model = linear_regression(28*28, 10)\n",
        "model.cuda()\n",
        "\n",
        "# Create a stochastic gradient descent optimizer\n",
        "optimizer = optim.SGD(model.parameters(), lr = 0.01)\n",
        "# Create a loss function\n",
        "criterion = nn.CrossEntropyLoss()\n",
        "\n",
        "data, target = iter(train_loader).next()\n",
        "data, target = Variable(data).cuda(), Variable(target).cuda()\n",
        "data = data.view(-1, 28*28)\n",
        "model.zero_grad()\n",
        "net_out = model.forward(data)\n",
        "loss = criterion(net_out, target)\n",
        "loss.backward()"
      ],
      "execution_count": 0,
      "outputs": []
    },
    {
      "cell_type": "code",
      "metadata": {
        "id": "z5dkRgCTqtRQ",
        "colab_type": "code",
        "outputId": "d79b2153-6fb0-4c23-df08-4155eb22348c",
        "colab": {
          "base_uri": "https://localhost:8080/",
          "height": 68
        }
      },
      "source": [
        "model.parameters"
      ],
      "execution_count": 0,
      "outputs": [
        {
          "output_type": "execute_result",
          "data": {
            "text/plain": [
              "<bound method Module.parameters of linear_regression(\n",
              "  (linear): Linear(in_features=784, out_features=10, bias=True)\n",
              ")>"
            ]
          },
          "metadata": {
            "tags": []
          },
          "execution_count": 9
        }
      ]
    },
    {
      "cell_type": "code",
      "metadata": {
        "id": "ztTc3kKfvTxR",
        "colab_type": "code",
        "colab": {}
      },
      "source": [
        "fullg_w = model.linear.weight.grad.data.clone()"
      ],
      "execution_count": 0,
      "outputs": []
    },
    {
      "cell_type": "code",
      "metadata": {
        "id": "ozfewNm6wSx_",
        "colab_type": "code",
        "outputId": "59cc5e7e-88ba-4473-e064-bea74b8ed3b2",
        "colab": {
          "base_uri": "https://localhost:8080/",
          "height": 34
        }
      },
      "source": [
        "fullg_w.shape"
      ],
      "execution_count": 0,
      "outputs": [
        {
          "output_type": "execute_result",
          "data": {
            "text/plain": [
              "torch.Size([10, 784])"
            ]
          },
          "metadata": {
            "tags": []
          },
          "execution_count": 12
        }
      ]
    },
    {
      "cell_type": "code",
      "metadata": {
        "id": "RTfh8VDIvPVb",
        "colab_type": "code",
        "colab": {}
      },
      "source": [
        "fullg_w = model.linear.weight.grad.data.clone()\n",
        "fullg_b = model.linear.bias.grad.data.clone()"
      ],
      "execution_count": 0,
      "outputs": []
    },
    {
      "cell_type": "code",
      "metadata": {
        "id": "S8hK-CQQoBOQ",
        "colab_type": "code",
        "colab": {}
      },
      "source": [
        "for i,b in enumerate(batch_size):\n",
        "    for _ in range(100):\n",
        "        train_loader = torch.utils.data.DataLoader(dataset=train_dataset, batch_size=b, shuffle=True)\n",
        "        data, target = iter(train_loader).next()\n",
        "        data, target = Variable(data).cuda(), Variable(target).cuda()\n",
        "        data = data.view(-1, 28*28)\n",
        "        model.zero_grad()\n",
        "        net_out = model.forward(data)\n",
        "        loss = criterion(net_out, target)\n",
        "        loss.backward()\n",
        "        \n",
        "        variances[i] += (model.linear.weight.grad.data.sub(fullg_w).norm()*2 + model.linear.bias.grad.data.sub(fullg_b).norm()*2)/100."
      ],
      "execution_count": 0,
      "outputs": []
    },
    {
      "cell_type": "code",
      "metadata": {
        "id": "wkjBQESYoGGo",
        "colab_type": "code",
        "outputId": "5796fb51-21db-49ff-9c43-4e4e81c09e27",
        "colab": {
          "base_uri": "https://localhost:8080/",
          "height": 34
        }
      },
      "source": [
        "len(variances)"
      ],
      "execution_count": 0,
      "outputs": [
        {
          "output_type": "execute_result",
          "data": {
            "text/plain": [
              "11"
            ]
          },
          "metadata": {
            "tags": []
          },
          "execution_count": 15
        }
      ]
    },
    {
      "cell_type": "code",
      "metadata": {
        "id": "oCy2xkE_ofeD",
        "colab_type": "code",
        "outputId": "f582f59a-f67d-4016-935b-31f8f6aa9db0",
        "colab": {
          "base_uri": "https://localhost:8080/",
          "height": 282
        }
      },
      "source": [
        "plt.plot(variances)"
      ],
      "execution_count": 0,
      "outputs": [
        {
          "output_type": "execute_result",
          "data": {
            "text/plain": [
              "[<matplotlib.lines.Line2D at 0x7f2686b91828>]"
            ]
          },
          "metadata": {
            "tags": []
          },
          "execution_count": 16
        },
        {
          "output_type": "display_data",
          "data": {
            "image/png": "[encoded data removed]",
            "text/plain": [
              "<Figure size 432x288 with 1 Axes>"
            ]
          },
          "metadata": {
            "tags": []
          }
        }
      ]
    },
    {
      "cell_type": "code",
      "metadata": {
        "id": "xv4bvfJGo_nV",
        "colab_type": "code",
        "outputId": "3d5a0ec9-6572-4cf7-8688-c56ae0c147b0",
        "colab": {
          "base_uri": "https://localhost:8080/",
          "height": 282
        }
      },
      "source": [
        "plt.plot(batch_size,variances)"
      ],
      "execution_count": 0,
      "outputs": [
        {
          "output_type": "execute_result",
          "data": {
            "text/plain": [
              "[<matplotlib.lines.Line2D at 0x7f2686b74278>]"
            ]
          },
          "metadata": {
            "tags": []
          },
          "execution_count": 17
        },
        {
          "output_type": "display_data",
          "data": {
            "image/png": "[encoded data removed]",
            "text/plain": [
              "<Figure size 432x288 with 1 Axes>"
            ]
          },
          "metadata": {
            "tags": []
          }
        }
      ]
    }
  ]
}